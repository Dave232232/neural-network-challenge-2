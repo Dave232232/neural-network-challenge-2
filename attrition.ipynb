{
 "cells": [
  {
   "cell_type": "markdown",
   "metadata": {
    "id": "alIIEHibGc3M"
   },
   "source": [
    "## Part 1: Preprocessing"
   ]
  },
  {
   "cell_type": "code",
   "execution_count": 1,
   "metadata": {
    "colab": {
     "base_uri": "https://localhost:8080/",
     "height": 325
    },
    "executionInfo": {
     "elapsed": 12323,
     "status": "ok",
     "timestamp": 1730699226906,
     "user": {
      "displayName": "Alexander Booth",
      "userId": "02269714993535573104"
     },
     "user_tz": 360
    },
    "id": "6eDUJ4NtGc3P",
    "outputId": "eeae54b5-3d17-442d-94ba-00dd55b89964"
   },
   "outputs": [],
   "source": [
    "# Import our dependencies\n",
    "from sklearn.model_selection import train_test_split\n",
    "from sklearn.compose import ColumnTransformer\n",
    "from sklearn.preprocessing import StandardScaler, OneHotEncoder, OrdinalEncoder\n",
    "from sklearn.pipeline import Pipeline\n",
    "import pandas as pd\n",
    "import numpy as np\n",
    "from tensorflow.keras.models import Model\n",
    "from tensorflow.keras import layers\n",
    "\n"
   ]
  },
  {
   "cell_type": "code",
   "execution_count": 2,
   "metadata": {},
   "outputs": [
    {
     "data": {
      "application/vnd.microsoft.datawrangler.viewer.v0+json": {
       "columns": [
        {
         "name": "index",
         "rawType": "int64",
         "type": "integer"
        },
        {
         "name": "Age",
         "rawType": "int64",
         "type": "integer"
        },
        {
         "name": "Attrition",
         "rawType": "object",
         "type": "string"
        },
        {
         "name": "BusinessTravel",
         "rawType": "object",
         "type": "string"
        },
        {
         "name": "Department",
         "rawType": "object",
         "type": "string"
        },
        {
         "name": "DistanceFromHome",
         "rawType": "int64",
         "type": "integer"
        },
        {
         "name": "Education",
         "rawType": "int64",
         "type": "integer"
        },
        {
         "name": "EducationField",
         "rawType": "object",
         "type": "string"
        },
        {
         "name": "EnvironmentSatisfaction",
         "rawType": "int64",
         "type": "integer"
        },
        {
         "name": "HourlyRate",
         "rawType": "int64",
         "type": "integer"
        },
        {
         "name": "JobInvolvement",
         "rawType": "int64",
         "type": "integer"
        },
        {
         "name": "JobLevel",
         "rawType": "int64",
         "type": "integer"
        },
        {
         "name": "JobRole",
         "rawType": "object",
         "type": "string"
        },
        {
         "name": "JobSatisfaction",
         "rawType": "int64",
         "type": "integer"
        },
        {
         "name": "MaritalStatus",
         "rawType": "object",
         "type": "string"
        },
        {
         "name": "NumCompaniesWorked",
         "rawType": "int64",
         "type": "integer"
        },
        {
         "name": "OverTime",
         "rawType": "object",
         "type": "string"
        },
        {
         "name": "PercentSalaryHike",
         "rawType": "int64",
         "type": "integer"
        },
        {
         "name": "PerformanceRating",
         "rawType": "int64",
         "type": "integer"
        },
        {
         "name": "RelationshipSatisfaction",
         "rawType": "int64",
         "type": "integer"
        },
        {
         "name": "StockOptionLevel",
         "rawType": "int64",
         "type": "integer"
        },
        {
         "name": "TotalWorkingYears",
         "rawType": "int64",
         "type": "integer"
        },
        {
         "name": "TrainingTimesLastYear",
         "rawType": "int64",
         "type": "integer"
        },
        {
         "name": "WorkLifeBalance",
         "rawType": "int64",
         "type": "integer"
        },
        {
         "name": "YearsAtCompany",
         "rawType": "int64",
         "type": "integer"
        },
        {
         "name": "YearsInCurrentRole",
         "rawType": "int64",
         "type": "integer"
        },
        {
         "name": "YearsSinceLastPromotion",
         "rawType": "int64",
         "type": "integer"
        },
        {
         "name": "YearsWithCurrManager",
         "rawType": "int64",
         "type": "integer"
        }
       ],
       "conversionMethod": "pd.DataFrame",
       "ref": "7b3ad543-9862-463a-947f-8190acad9133",
       "rows": [
        [
         "0",
         "41",
         "Yes",
         "Travel_Rarely",
         "Sales",
         "1",
         "2",
         "Life Sciences",
         "2",
         "94",
         "3",
         "2",
         "Sales Executive",
         "4",
         "Single",
         "8",
         "Yes",
         "11",
         "3",
         "1",
         "0",
         "8",
         "0",
         "1",
         "6",
         "4",
         "0",
         "5"
        ],
        [
         "1",
         "49",
         "No",
         "Travel_Frequently",
         "Research & Development",
         "8",
         "1",
         "Life Sciences",
         "3",
         "61",
         "2",
         "2",
         "Research Scientist",
         "2",
         "Married",
         "1",
         "No",
         "23",
         "4",
         "4",
         "1",
         "10",
         "3",
         "3",
         "10",
         "7",
         "1",
         "7"
        ],
        [
         "2",
         "37",
         "Yes",
         "Travel_Rarely",
         "Research & Development",
         "2",
         "2",
         "Other",
         "4",
         "92",
         "2",
         "1",
         "Laboratory Technician",
         "3",
         "Single",
         "6",
         "Yes",
         "15",
         "3",
         "2",
         "0",
         "7",
         "3",
         "3",
         "0",
         "0",
         "0",
         "0"
        ],
        [
         "3",
         "33",
         "No",
         "Travel_Frequently",
         "Research & Development",
         "3",
         "4",
         "Life Sciences",
         "4",
         "56",
         "3",
         "1",
         "Research Scientist",
         "3",
         "Married",
         "1",
         "Yes",
         "11",
         "3",
         "3",
         "0",
         "8",
         "3",
         "3",
         "8",
         "7",
         "3",
         "0"
        ],
        [
         "4",
         "27",
         "No",
         "Travel_Rarely",
         "Research & Development",
         "2",
         "1",
         "Medical",
         "1",
         "40",
         "3",
         "1",
         "Laboratory Technician",
         "2",
         "Married",
         "9",
         "No",
         "12",
         "3",
         "4",
         "1",
         "6",
         "3",
         "3",
         "2",
         "2",
         "2",
         "2"
        ]
       ],
       "shape": {
        "columns": 27,
        "rows": 5
       }
      },
      "text/html": [
       "<div>\n",
       "<style scoped>\n",
       "    .dataframe tbody tr th:only-of-type {\n",
       "        vertical-align: middle;\n",
       "    }\n",
       "\n",
       "    .dataframe tbody tr th {\n",
       "        vertical-align: top;\n",
       "    }\n",
       "\n",
       "    .dataframe thead th {\n",
       "        text-align: right;\n",
       "    }\n",
       "</style>\n",
       "<table border=\"1\" class=\"dataframe\">\n",
       "  <thead>\n",
       "    <tr style=\"text-align: right;\">\n",
       "      <th></th>\n",
       "      <th>Age</th>\n",
       "      <th>Attrition</th>\n",
       "      <th>BusinessTravel</th>\n",
       "      <th>Department</th>\n",
       "      <th>DistanceFromHome</th>\n",
       "      <th>Education</th>\n",
       "      <th>EducationField</th>\n",
       "      <th>EnvironmentSatisfaction</th>\n",
       "      <th>HourlyRate</th>\n",
       "      <th>JobInvolvement</th>\n",
       "      <th>...</th>\n",
       "      <th>PerformanceRating</th>\n",
       "      <th>RelationshipSatisfaction</th>\n",
       "      <th>StockOptionLevel</th>\n",
       "      <th>TotalWorkingYears</th>\n",
       "      <th>TrainingTimesLastYear</th>\n",
       "      <th>WorkLifeBalance</th>\n",
       "      <th>YearsAtCompany</th>\n",
       "      <th>YearsInCurrentRole</th>\n",
       "      <th>YearsSinceLastPromotion</th>\n",
       "      <th>YearsWithCurrManager</th>\n",
       "    </tr>\n",
       "  </thead>\n",
       "  <tbody>\n",
       "    <tr>\n",
       "      <th>0</th>\n",
       "      <td>41</td>\n",
       "      <td>Yes</td>\n",
       "      <td>Travel_Rarely</td>\n",
       "      <td>Sales</td>\n",
       "      <td>1</td>\n",
       "      <td>2</td>\n",
       "      <td>Life Sciences</td>\n",
       "      <td>2</td>\n",
       "      <td>94</td>\n",
       "      <td>3</td>\n",
       "      <td>...</td>\n",
       "      <td>3</td>\n",
       "      <td>1</td>\n",
       "      <td>0</td>\n",
       "      <td>8</td>\n",
       "      <td>0</td>\n",
       "      <td>1</td>\n",
       "      <td>6</td>\n",
       "      <td>4</td>\n",
       "      <td>0</td>\n",
       "      <td>5</td>\n",
       "    </tr>\n",
       "    <tr>\n",
       "      <th>1</th>\n",
       "      <td>49</td>\n",
       "      <td>No</td>\n",
       "      <td>Travel_Frequently</td>\n",
       "      <td>Research &amp; Development</td>\n",
       "      <td>8</td>\n",
       "      <td>1</td>\n",
       "      <td>Life Sciences</td>\n",
       "      <td>3</td>\n",
       "      <td>61</td>\n",
       "      <td>2</td>\n",
       "      <td>...</td>\n",
       "      <td>4</td>\n",
       "      <td>4</td>\n",
       "      <td>1</td>\n",
       "      <td>10</td>\n",
       "      <td>3</td>\n",
       "      <td>3</td>\n",
       "      <td>10</td>\n",
       "      <td>7</td>\n",
       "      <td>1</td>\n",
       "      <td>7</td>\n",
       "    </tr>\n",
       "    <tr>\n",
       "      <th>2</th>\n",
       "      <td>37</td>\n",
       "      <td>Yes</td>\n",
       "      <td>Travel_Rarely</td>\n",
       "      <td>Research &amp; Development</td>\n",
       "      <td>2</td>\n",
       "      <td>2</td>\n",
       "      <td>Other</td>\n",
       "      <td>4</td>\n",
       "      <td>92</td>\n",
       "      <td>2</td>\n",
       "      <td>...</td>\n",
       "      <td>3</td>\n",
       "      <td>2</td>\n",
       "      <td>0</td>\n",
       "      <td>7</td>\n",
       "      <td>3</td>\n",
       "      <td>3</td>\n",
       "      <td>0</td>\n",
       "      <td>0</td>\n",
       "      <td>0</td>\n",
       "      <td>0</td>\n",
       "    </tr>\n",
       "    <tr>\n",
       "      <th>3</th>\n",
       "      <td>33</td>\n",
       "      <td>No</td>\n",
       "      <td>Travel_Frequently</td>\n",
       "      <td>Research &amp; Development</td>\n",
       "      <td>3</td>\n",
       "      <td>4</td>\n",
       "      <td>Life Sciences</td>\n",
       "      <td>4</td>\n",
       "      <td>56</td>\n",
       "      <td>3</td>\n",
       "      <td>...</td>\n",
       "      <td>3</td>\n",
       "      <td>3</td>\n",
       "      <td>0</td>\n",
       "      <td>8</td>\n",
       "      <td>3</td>\n",
       "      <td>3</td>\n",
       "      <td>8</td>\n",
       "      <td>7</td>\n",
       "      <td>3</td>\n",
       "      <td>0</td>\n",
       "    </tr>\n",
       "    <tr>\n",
       "      <th>4</th>\n",
       "      <td>27</td>\n",
       "      <td>No</td>\n",
       "      <td>Travel_Rarely</td>\n",
       "      <td>Research &amp; Development</td>\n",
       "      <td>2</td>\n",
       "      <td>1</td>\n",
       "      <td>Medical</td>\n",
       "      <td>1</td>\n",
       "      <td>40</td>\n",
       "      <td>3</td>\n",
       "      <td>...</td>\n",
       "      <td>3</td>\n",
       "      <td>4</td>\n",
       "      <td>1</td>\n",
       "      <td>6</td>\n",
       "      <td>3</td>\n",
       "      <td>3</td>\n",
       "      <td>2</td>\n",
       "      <td>2</td>\n",
       "      <td>2</td>\n",
       "      <td>2</td>\n",
       "    </tr>\n",
       "  </tbody>\n",
       "</table>\n",
       "<p>5 rows × 27 columns</p>\n",
       "</div>"
      ],
      "text/plain": [
       "   Age Attrition     BusinessTravel              Department  DistanceFromHome  \\\n",
       "0   41       Yes      Travel_Rarely                   Sales                 1   \n",
       "1   49        No  Travel_Frequently  Research & Development                 8   \n",
       "2   37       Yes      Travel_Rarely  Research & Development                 2   \n",
       "3   33        No  Travel_Frequently  Research & Development                 3   \n",
       "4   27        No      Travel_Rarely  Research & Development                 2   \n",
       "\n",
       "   Education EducationField  EnvironmentSatisfaction  HourlyRate  \\\n",
       "0          2  Life Sciences                        2          94   \n",
       "1          1  Life Sciences                        3          61   \n",
       "2          2          Other                        4          92   \n",
       "3          4  Life Sciences                        4          56   \n",
       "4          1        Medical                        1          40   \n",
       "\n",
       "   JobInvolvement  ...  PerformanceRating RelationshipSatisfaction  \\\n",
       "0               3  ...                  3                        1   \n",
       "1               2  ...                  4                        4   \n",
       "2               2  ...                  3                        2   \n",
       "3               3  ...                  3                        3   \n",
       "4               3  ...                  3                        4   \n",
       "\n",
       "   StockOptionLevel TotalWorkingYears  TrainingTimesLastYear WorkLifeBalance  \\\n",
       "0                 0                 8                      0               1   \n",
       "1                 1                10                      3               3   \n",
       "2                 0                 7                      3               3   \n",
       "3                 0                 8                      3               3   \n",
       "4                 1                 6                      3               3   \n",
       "\n",
       "   YearsAtCompany  YearsInCurrentRole  YearsSinceLastPromotion  \\\n",
       "0               6                   4                        0   \n",
       "1              10                   7                        1   \n",
       "2               0                   0                        0   \n",
       "3               8                   7                        3   \n",
       "4               2                   2                        2   \n",
       "\n",
       "   YearsWithCurrManager  \n",
       "0                     5  \n",
       "1                     7  \n",
       "2                     0  \n",
       "3                     0  \n",
       "4                     2  \n",
       "\n",
       "[5 rows x 27 columns]"
      ]
     },
     "execution_count": 2,
     "metadata": {},
     "output_type": "execute_result"
    }
   ],
   "source": [
    "#import data\n",
    "#  Import and read the attrition data\n",
    "attrition_df = pd.read_csv('https://static.bc-edx.com/ai/ail-v-1-0/m19/lms/datasets/attrition.csv')\n",
    "attrition_df.head()"
   ]
  },
  {
   "cell_type": "code",
   "execution_count": 3,
   "metadata": {
    "colab": {
     "base_uri": "https://localhost:8080/",
     "height": 930
    },
    "executionInfo": {
     "elapsed": 10,
     "status": "ok",
     "timestamp": 1730699226906,
     "user": {
      "displayName": "Alexander Booth",
      "userId": "02269714993535573104"
     },
     "user_tz": 360
    },
    "id": "g22aQSY4Gc3Q",
    "outputId": "e8b68509-45d8-42e0-a9db-1bdce48e4b2d"
   },
   "outputs": [
    {
     "data": {
      "text/plain": [
       "Age                         43\n",
       "Attrition                    2\n",
       "BusinessTravel               3\n",
       "Department                   3\n",
       "DistanceFromHome            29\n",
       "Education                    5\n",
       "EducationField               6\n",
       "EnvironmentSatisfaction      4\n",
       "HourlyRate                  71\n",
       "JobInvolvement               4\n",
       "JobLevel                     5\n",
       "JobRole                      9\n",
       "JobSatisfaction              4\n",
       "MaritalStatus                3\n",
       "NumCompaniesWorked          10\n",
       "OverTime                     2\n",
       "PercentSalaryHike           15\n",
       "PerformanceRating            2\n",
       "RelationshipSatisfaction     4\n",
       "StockOptionLevel             4\n",
       "TotalWorkingYears           40\n",
       "TrainingTimesLastYear        7\n",
       "WorkLifeBalance              4\n",
       "YearsAtCompany              37\n",
       "YearsInCurrentRole          19\n",
       "YearsSinceLastPromotion     16\n",
       "YearsWithCurrManager        18\n",
       "dtype: int64"
      ]
     },
     "execution_count": 3,
     "metadata": {},
     "output_type": "execute_result"
    }
   ],
   "source": [
    "# Determine the number of unique values in each column\n",
    "attrition_df.nunique()\n"
   ]
  },
  {
   "cell_type": "code",
   "execution_count": 4,
   "metadata": {},
   "outputs": [
    {
     "name": "stdout",
     "output_type": "stream",
     "text": [
      "<class 'pandas.core.frame.DataFrame'>\n",
      "RangeIndex: 1470 entries, 0 to 1469\n",
      "Data columns (total 27 columns):\n",
      " #   Column                    Non-Null Count  Dtype \n",
      "---  ------                    --------------  ----- \n",
      " 0   Age                       1470 non-null   int64 \n",
      " 1   Attrition                 1470 non-null   object\n",
      " 2   BusinessTravel            1470 non-null   object\n",
      " 3   Department                1470 non-null   object\n",
      " 4   DistanceFromHome          1470 non-null   int64 \n",
      " 5   Education                 1470 non-null   int64 \n",
      " 6   EducationField            1470 non-null   object\n",
      " 7   EnvironmentSatisfaction   1470 non-null   int64 \n",
      " 8   HourlyRate                1470 non-null   int64 \n",
      " 9   JobInvolvement            1470 non-null   int64 \n",
      " 10  JobLevel                  1470 non-null   int64 \n",
      " 11  JobRole                   1470 non-null   object\n",
      " 12  JobSatisfaction           1470 non-null   int64 \n",
      " 13  MaritalStatus             1470 non-null   object\n",
      " 14  NumCompaniesWorked        1470 non-null   int64 \n",
      " 15  OverTime                  1470 non-null   object\n",
      " 16  PercentSalaryHike         1470 non-null   int64 \n",
      " 17  PerformanceRating         1470 non-null   int64 \n",
      " 18  RelationshipSatisfaction  1470 non-null   int64 \n",
      " 19  StockOptionLevel          1470 non-null   int64 \n",
      " 20  TotalWorkingYears         1470 non-null   int64 \n",
      " 21  TrainingTimesLastYear     1470 non-null   int64 \n",
      " 22  WorkLifeBalance           1470 non-null   int64 \n",
      " 23  YearsAtCompany            1470 non-null   int64 \n",
      " 24  YearsInCurrentRole        1470 non-null   int64 \n",
      " 25  YearsSinceLastPromotion   1470 non-null   int64 \n",
      " 26  YearsWithCurrManager      1470 non-null   int64 \n",
      "dtypes: int64(20), object(7)\n",
      "memory usage: 310.2+ KB\n"
     ]
    }
   ],
   "source": [
    "#find nulls and data types\n",
    "attrition_df.info()"
   ]
  },
  {
   "cell_type": "code",
   "execution_count": 5,
   "metadata": {
    "executionInfo": {
     "elapsed": 7,
     "status": "ok",
     "timestamp": 1730699226906,
     "user": {
      "displayName": "Alexander Booth",
      "userId": "02269714993535573104"
     },
     "user_tz": 360
    },
    "id": "50vMgBEnJbfM"
   },
   "outputs": [
    {
     "data": {
      "application/vnd.microsoft.datawrangler.viewer.v0+json": {
       "columns": [
        {
         "name": "index",
         "rawType": "int64",
         "type": "integer"
        },
        {
         "name": "Attrition",
         "rawType": "object",
         "type": "string"
        },
        {
         "name": "Department",
         "rawType": "object",
         "type": "string"
        }
       ],
       "conversionMethod": "pd.DataFrame",
       "ref": "016e7dc2-5955-4664-bd00-b31c8a3f7ea0",
       "rows": [
        [
         "0",
         "Yes",
         "Sales"
        ],
        [
         "1",
         "No",
         "Research & Development"
        ],
        [
         "2",
         "Yes",
         "Research & Development"
        ],
        [
         "3",
         "No",
         "Research & Development"
        ],
        [
         "4",
         "No",
         "Research & Development"
        ]
       ],
       "shape": {
        "columns": 2,
        "rows": 5
       }
      },
      "text/html": [
       "<div>\n",
       "<style scoped>\n",
       "    .dataframe tbody tr th:only-of-type {\n",
       "        vertical-align: middle;\n",
       "    }\n",
       "\n",
       "    .dataframe tbody tr th {\n",
       "        vertical-align: top;\n",
       "    }\n",
       "\n",
       "    .dataframe thead th {\n",
       "        text-align: right;\n",
       "    }\n",
       "</style>\n",
       "<table border=\"1\" class=\"dataframe\">\n",
       "  <thead>\n",
       "    <tr style=\"text-align: right;\">\n",
       "      <th></th>\n",
       "      <th>Attrition</th>\n",
       "      <th>Department</th>\n",
       "    </tr>\n",
       "  </thead>\n",
       "  <tbody>\n",
       "    <tr>\n",
       "      <th>0</th>\n",
       "      <td>Yes</td>\n",
       "      <td>Sales</td>\n",
       "    </tr>\n",
       "    <tr>\n",
       "      <th>1</th>\n",
       "      <td>No</td>\n",
       "      <td>Research &amp; Development</td>\n",
       "    </tr>\n",
       "    <tr>\n",
       "      <th>2</th>\n",
       "      <td>Yes</td>\n",
       "      <td>Research &amp; Development</td>\n",
       "    </tr>\n",
       "    <tr>\n",
       "      <th>3</th>\n",
       "      <td>No</td>\n",
       "      <td>Research &amp; Development</td>\n",
       "    </tr>\n",
       "    <tr>\n",
       "      <th>4</th>\n",
       "      <td>No</td>\n",
       "      <td>Research &amp; Development</td>\n",
       "    </tr>\n",
       "  </tbody>\n",
       "</table>\n",
       "</div>"
      ],
      "text/plain": [
       "  Attrition              Department\n",
       "0       Yes                   Sales\n",
       "1        No  Research & Development\n",
       "2       Yes  Research & Development\n",
       "3        No  Research & Development\n",
       "4        No  Research & Development"
      ]
     },
     "metadata": {},
     "output_type": "display_data"
    },
    {
     "name": "stdout",
     "output_type": "stream",
     "text": [
      "['Sales' 'Research & Development' 'Human Resources']\n"
     ]
    }
   ],
   "source": [
    "# Create y_df with the Attrition and Department columns\n",
    "y_df=attrition_df[[\"Attrition\",\"Department\"]]\n",
    "display(y_df.head())\n",
    "print(y_df[\"Department\"].unique())"
   ]
  },
  {
   "cell_type": "code",
   "execution_count": 6,
   "metadata": {
    "colab": {
     "base_uri": "https://localhost:8080/",
     "height": 397
    },
    "executionInfo": {
     "elapsed": 125,
     "status": "ok",
     "timestamp": 1730699227025,
     "user": {
      "displayName": "Alexander Booth",
      "userId": "02269714993535573104"
     },
     "user_tz": 360
    },
    "id": "Virka0zLGc3R",
    "outputId": "24f181c9-7e2e-42cb-94e8-a75842f1ab01"
   },
   "outputs": [
    {
     "name": "stdout",
     "output_type": "stream",
     "text": [
      "<class 'pandas.core.frame.DataFrame'>\n",
      "RangeIndex: 1470 entries, 0 to 1469\n",
      "Data columns (total 25 columns):\n",
      " #   Column                    Non-Null Count  Dtype \n",
      "---  ------                    --------------  ----- \n",
      " 0   Age                       1470 non-null   int64 \n",
      " 1   BusinessTravel            1470 non-null   object\n",
      " 2   DistanceFromHome          1470 non-null   int64 \n",
      " 3   Education                 1470 non-null   int64 \n",
      " 4   EducationField            1470 non-null   object\n",
      " 5   EnvironmentSatisfaction   1470 non-null   int64 \n",
      " 6   HourlyRate                1470 non-null   int64 \n",
      " 7   JobInvolvement            1470 non-null   int64 \n",
      " 8   JobLevel                  1470 non-null   int64 \n",
      " 9   JobRole                   1470 non-null   object\n",
      " 10  JobSatisfaction           1470 non-null   int64 \n",
      " 11  MaritalStatus             1470 non-null   object\n",
      " 12  NumCompaniesWorked        1470 non-null   int64 \n",
      " 13  OverTime                  1470 non-null   object\n",
      " 14  PercentSalaryHike         1470 non-null   int64 \n",
      " 15  PerformanceRating         1470 non-null   int64 \n",
      " 16  RelationshipSatisfaction  1470 non-null   int64 \n",
      " 17  StockOptionLevel          1470 non-null   int64 \n",
      " 18  TotalWorkingYears         1470 non-null   int64 \n",
      " 19  TrainingTimesLastYear     1470 non-null   int64 \n",
      " 20  WorkLifeBalance           1470 non-null   int64 \n",
      " 21  YearsAtCompany            1470 non-null   int64 \n",
      " 22  YearsInCurrentRole        1470 non-null   int64 \n",
      " 23  YearsSinceLastPromotion   1470 non-null   int64 \n",
      " 24  YearsWithCurrManager      1470 non-null   int64 \n",
      "dtypes: int64(20), object(5)\n",
      "memory usage: 287.2+ KB\n",
      "['Travel_Rarely' 'Travel_Frequently' 'Non-Travel']\n"
     ]
    }
   ],
   "source": [
    "# Create a list of at least 10 column names to use as X data\n",
    "#going to use all the columns and do feature selection later.\n",
    "\n",
    "\n",
    "# Create X_df using your selected columns\n",
    "X_df=attrition_df.drop(columns=[\"Attrition\",\"Department\"])\n",
    "\n",
    "# Show the data types for X_df\n",
    "X_df.info()\n",
    "print(X_df[\"BusinessTravel\"].unique())"
   ]
  },
  {
   "cell_type": "code",
   "execution_count": 7,
   "metadata": {},
   "outputs": [
    {
     "name": "stdout",
     "output_type": "stream",
     "text": [
      "Attrition  Department            \n",
      "No         Research & Development    828\n",
      "           Sales                     354\n",
      "Yes        Research & Development    133\n",
      "           Sales                      92\n",
      "No         Human Resources            51\n",
      "Yes        Human Resources            12\n",
      "Name: count, dtype: int64\n"
     ]
    }
   ],
   "source": [
    "print(y_df.value_counts())"
   ]
  },
  {
   "cell_type": "code",
   "execution_count": 8,
   "metadata": {
    "executionInfo": {
     "elapsed": 9,
     "status": "ok",
     "timestamp": 1730699227025,
     "user": {
      "displayName": "Alexander Booth",
      "userId": "02269714993535573104"
     },
     "user_tz": 360
    },
    "id": "KaJfdOGUMHMR"
   },
   "outputs": [],
   "source": [
    "# Split the data into training and testing sets\n",
    "X_train, X_test, y_train, y_test=train_test_split(X_df, y_df, test_size=0.2,random_state=42)\n",
    "\n"
   ]
  },
  {
   "cell_type": "code",
   "execution_count": 9,
   "metadata": {
    "colab": {
     "base_uri": "https://localhost:8080/",
     "height": 178
    },
    "executionInfo": {
     "elapsed": 8,
     "status": "ok",
     "timestamp": 1730699227025,
     "user": {
      "displayName": "Alexander Booth",
      "userId": "02269714993535573104"
     },
     "user_tz": 360
    },
    "id": "NYubUJqiLCSp",
    "outputId": "6116187c-4afa-4d4a-aeb9-fdc2131d0d58"
   },
   "outputs": [
    {
     "name": "stdout",
     "output_type": "stream",
     "text": [
      "['BusinessTravel']\n",
      "['EducationField', 'JobRole', 'MaritalStatus', 'OverTime']\n",
      "['Age', 'DistanceFromHome', 'Education', 'EnvironmentSatisfaction', 'HourlyRate', 'JobInvolvement', 'JobLevel', 'JobSatisfaction', 'NumCompaniesWorked', 'PercentSalaryHike', 'PerformanceRating', 'RelationshipSatisfaction', 'StockOptionLevel', 'TotalWorkingYears', 'TrainingTimesLastYear', 'WorkLifeBalance', 'YearsAtCompany', 'YearsInCurrentRole', 'YearsSinceLastPromotion', 'YearsWithCurrManager']\n",
      "20\n"
     ]
    }
   ],
   "source": [
    "# Convert your X data to numeric data types however you see fit\n",
    "# Add new code cells as necessary\n",
    "\n",
    "ordinal_cols=[\"BusinessTravel\"]\n",
    "onehot_cols=[\"EducationField\",\"JobRole\",\"MaritalStatus\",\"OverTime\"]\n",
    "\n",
    "drop_cols=ordinal_cols+onehot_cols\n",
    "numeric_cols=X_df.drop(columns=drop_cols).columns.tolist()\n",
    "\n",
    "#check to make sure did correctly\n",
    "print(ordinal_cols)\n",
    "print(onehot_cols)\n",
    "print(numeric_cols)\n",
    "print(len(numeric_cols))\n",
    "\n",
    "#create pipelines\n",
    "ordinal_pipline=Pipeline(steps=[\n",
    "    (\"ordinal\",OrdinalEncoder(categories=[['Non-Travel', 'Travel_Rarely', 'Travel_Frequently']]))\n",
    "])\n",
    "\n",
    "onehot_pipeline=Pipeline(steps=[\n",
    "    (\"onehot\",OneHotEncoder(handle_unknown=\"ignore\"))\n",
    "])\n",
    "\n",
    "numeric_pipeline=Pipeline(steps=[\n",
    "    (\"scaler\",StandardScaler())\n",
    "])\n",
    "\n",
    "#combine for X_train\n",
    "processor=ColumnTransformer(\n",
    "    transformers=[\n",
    "        (\"ord\",ordinal_pipline,ordinal_cols),\n",
    "        (\"ohe\",onehot_pipeline,onehot_cols),\n",
    "        (\"num\",numeric_pipeline,numeric_cols)\n",
    "    ]\n",
    ")\n",
    "\n",
    "#encode for X_train\n",
    "X_train_encoded=processor.fit_transform(X_train)\n",
    "\n",
    "#encode for X_test\n",
    "X_test_encoded=processor.fit_transform(X_test)"
   ]
  },
  {
   "cell_type": "code",
   "execution_count": null,
   "metadata": {},
   "outputs": [
    {
     "data": {
      "application/vnd.microsoft.datawrangler.viewer.v0+json": {
       "columns": [
        {
         "name": "index",
         "rawType": "object",
         "type": "string"
        },
        {
         "name": "0",
         "rawType": "float64",
         "type": "float"
        },
        {
         "name": "1",
         "rawType": "float64",
         "type": "float"
        },
        {
         "name": "2",
         "rawType": "float64",
         "type": "float"
        },
        {
         "name": "3",
         "rawType": "float64",
         "type": "float"
        },
        {
         "name": "4",
         "rawType": "float64",
         "type": "float"
        },
        {
         "name": "5",
         "rawType": "float64",
         "type": "float"
        },
        {
         "name": "6",
         "rawType": "float64",
         "type": "float"
        },
        {
         "name": "7",
         "rawType": "float64",
         "type": "float"
        },
        {
         "name": "8",
         "rawType": "float64",
         "type": "float"
        },
        {
         "name": "9",
         "rawType": "float64",
         "type": "float"
        },
        {
         "name": "10",
         "rawType": "float64",
         "type": "float"
        },
        {
         "name": "11",
         "rawType": "float64",
         "type": "float"
        },
        {
         "name": "12",
         "rawType": "float64",
         "type": "float"
        },
        {
         "name": "13",
         "rawType": "float64",
         "type": "float"
        },
        {
         "name": "14",
         "rawType": "float64",
         "type": "float"
        },
        {
         "name": "15",
         "rawType": "float64",
         "type": "float"
        },
        {
         "name": "16",
         "rawType": "float64",
         "type": "float"
        },
        {
         "name": "17",
         "rawType": "float64",
         "type": "float"
        },
        {
         "name": "18",
         "rawType": "float64",
         "type": "float"
        },
        {
         "name": "19",
         "rawType": "float64",
         "type": "float"
        },
        {
         "name": "20",
         "rawType": "float64",
         "type": "float"
        },
        {
         "name": "21",
         "rawType": "float64",
         "type": "float"
        },
        {
         "name": "22",
         "rawType": "float64",
         "type": "float"
        },
        {
         "name": "23",
         "rawType": "float64",
         "type": "float"
        },
        {
         "name": "24",
         "rawType": "float64",
         "type": "float"
        },
        {
         "name": "25",
         "rawType": "float64",
         "type": "float"
        },
        {
         "name": "26",
         "rawType": "float64",
         "type": "float"
        },
        {
         "name": "27",
         "rawType": "float64",
         "type": "float"
        },
        {
         "name": "28",
         "rawType": "float64",
         "type": "float"
        },
        {
         "name": "29",
         "rawType": "float64",
         "type": "float"
        },
        {
         "name": "30",
         "rawType": "float64",
         "type": "float"
        },
        {
         "name": "31",
         "rawType": "float64",
         "type": "float"
        },
        {
         "name": "32",
         "rawType": "float64",
         "type": "float"
        },
        {
         "name": "33",
         "rawType": "float64",
         "type": "float"
        },
        {
         "name": "34",
         "rawType": "float64",
         "type": "float"
        },
        {
         "name": "35",
         "rawType": "float64",
         "type": "float"
        },
        {
         "name": "36",
         "rawType": "float64",
         "type": "float"
        },
        {
         "name": "37",
         "rawType": "float64",
         "type": "float"
        },
        {
         "name": "38",
         "rawType": "float64",
         "type": "float"
        },
        {
         "name": "39",
         "rawType": "float64",
         "type": "float"
        },
        {
         "name": "40",
         "rawType": "float64",
         "type": "float"
        }
       ],
       "conversionMethod": "pd.DataFrame",
       "ref": "0d7728cf-149a-4198-9094-e96ed964d360",
       "rows": [
        [
         "count",
         "1176.0",
         "1176.0",
         "1176.0",
         "1176.0",
         "1176.0",
         "1176.0",
         "1176.0",
         "1176.0",
         "1176.0",
         "1176.0",
         "1176.0",
         "1176.0",
         "1176.0",
         "1176.0",
         "1176.0",
         "1176.0",
         "1176.0",
         "1176.0",
         "1176.0",
         "1176.0",
         "1176.0",
         "1176.0",
         "1176.0",
         "1176.0",
         "1176.0",
         "1176.0",
         "1176.0",
         "1176.0",
         "1176.0",
         "1176.0",
         "1176.0",
         "1176.0",
         "1176.0",
         "1176.0",
         "1176.0",
         "1176.0",
         "1176.0",
         "1176.0",
         "1176.0",
         "1176.0",
         "1176.0"
        ],
        [
         "mean",
         "1.0977891156462585",
         "0.01870748299319728",
         "0.4175170068027211",
         "0.1054421768707483",
         "0.3137755102040816",
         "0.058673469387755105",
         "0.0858843537414966",
         "0.08928571428571429",
         "0.03571428571428571",
         "0.17346938775510204",
         "0.06717687074829932",
         "0.09098639455782313",
         "0.05782312925170068",
         "0.20578231292517007",
         "0.21598639455782312",
         "0.06377551020408163",
         "0.22704081632653061",
         "0.467687074829932",
         "0.3052721088435374",
         "0.7117346938775511",
         "0.288265306122449",
         "-1.450087215836939e-16",
         "9.06304509898087e-17",
         "-4.682573301140116e-17",
         "5.588877811038203e-17",
         "-1.7823988694662377e-16",
         "-2.484784864637255e-16",
         "1.450087215836939e-16",
         "-2.1449206734254724e-16",
         "-5.437827059388522e-17",
         "7.552537582484058e-17",
         "-4.153895670366232e-16",
         "-1.5105075164968118e-17",
         "1.6615582681464928e-17",
         "6.344131569286608e-17",
         "-1.8956869332034985e-16",
         "-6.042030065987246e-18",
         "1.5105075164968116e-18",
         "7.85463908578342e-17",
         "-3.92731954289171e-17",
         "-1.963659771445855e-17"
        ],
        [
         "std",
         "0.5297564688996271",
         "0.1355475432777687",
         "0.49335943451546116",
         "0.3072529903156248",
         "0.4642237508336194",
         "0.23511252283406636",
         "0.2803124097147529",
         "0.2852770210223837",
         "0.18565582432658223",
         "0.37881365193440447",
         "0.2504345622447328",
         "0.28771211347502795",
         "0.23350798831090985",
         "0.4044441210353907",
         "0.41167995809832586",
         "0.2444565605316665",
         "0.4190974111525129",
         "0.49916705841558157",
         "0.46071850724172253",
         "0.45314791274963645",
         "0.45314791274963645",
         "1.000425441414694",
         "1.000425441414696",
         "1.000425441414692",
         "1.0004254414146971",
         "1.000425441414695",
         "1.0004254414146876",
         "1.0004254414146978",
         "1.0004254414146991",
         "1.0004254414146982",
         "1.0004254414146931",
         "1.0004254414147007",
         "1.0004254414147018",
         "1.000425441414692",
         "1.0004254414146945",
         "1.0004254414146971",
         "1.0004254414146938",
         "1.0004254414146947",
         "1.0004254414146936",
         "1.0004254414146911",
         "1.0004254414146914"
        ],
        [
         "min",
         "0.0",
         "0.0",
         "0.0",
         "0.0",
         "0.0",
         "0.0",
         "0.0",
         "0.0",
         "0.0",
         "0.0",
         "0.0",
         "0.0",
         "0.0",
         "0.0",
         "0.0",
         "0.0",
         "0.0",
         "0.0",
         "0.0",
         "0.0",
         "0.0",
         "-2.04073779005786",
         "-1.0134732062477538",
         "-1.8266444635788122",
         "-1.557913295991049",
         "-1.7928046608706927",
         "-2.414592863418063",
         "-0.932273603340525",
         "-1.582336477491676",
         "-1.0591681591282378",
         "-1.1579030296753563",
         "-0.4292901468837605",
         "-1.565321388477609",
         "-0.9455246264432461",
         "-1.4233968531864407",
         "-2.1552765892321264",
         "-2.521633282811873",
         "-1.138573308723798",
         "-1.165051404308234",
         "-0.6761095304583609",
         "-1.142447942991037"
        ],
        [
         "25%",
         "1.0",
         "0.0",
         "0.0",
         "0.0",
         "0.0",
         "0.0",
         "0.0",
         "0.0",
         "0.0",
         "0.0",
         "0.0",
         "0.0",
         "0.0",
         "0.0",
         "0.0",
         "0.0",
         "0.0",
         "0.0",
         "0.0",
         "0.0",
         "0.0",
         "-0.7363810848947404",
         "-0.890779723588977",
         "-0.8633557240412861",
         "-0.6391038496091666",
         "-0.9128230010526984",
         "-1.012340415329351",
         "-0.932273603340525",
         "-0.6706129608183733",
         "-0.6594307537576322",
         "-0.8850184679723064",
         "-0.4292901468837605",
         "-0.6398221663309683",
         "-0.9455246264432461",
         "-0.6553111850858345",
         "-0.61354589036535",
         "-1.0820989427212115",
         "-0.6456433009709989",
         "-0.6113636082013505",
         "-0.6761095304583609",
         "-0.5750835929245423"
        ],
        [
         "50%",
         "1.0",
         "0.0",
         "0.0",
         "0.0",
         "0.0",
         "0.0",
         "0.0",
         "0.0",
         "0.0",
         "0.0",
         "0.0",
         "0.0",
         "0.0",
         "0.0",
         "0.0",
         "0.0",
         "0.0",
         "0.0",
         "0.0",
         "1.0",
         "0.0",
         "-0.08420273231318058",
         "-0.27731231029509257",
         "0.0999330154962399",
         "0.279705596772716",
         "0.016046528755184336",
         "0.389912032759361",
         "-0.02544667403658987",
         "0.24111055585492935",
         "-0.4595620510723292",
         "-0.3392493445662066",
         "-0.4292901468837605",
         "0.2856770558156722",
         "0.21880726957482452",
         "-0.14325407301876378",
         "0.15731945906803824",
         "0.3574353973694499",
         "-0.31702329580246624",
         "-0.3345197101479087",
         "-0.3552439905798167",
         "-0.2914014178912949"
        ],
        [
         "75%",
         "1.0",
         "0.0",
         "1.0",
         "0.0",
         "1.0",
         "0.0",
         "0.0",
         "0.0",
         "0.0",
         "0.0",
         "0.0",
         "0.0",
         "0.0",
         "0.0",
         "0.0",
         "0.0",
         "0.0",
         "1.0",
         "1.0",
         "1.0",
         "1.0",
         "0.6766720123653059",
         "0.5815420683163456",
         "1.063221755033766",
         "1.1985150431545986",
         "0.84714031858329",
         "0.389912032759361",
         "0.8813802552673452",
         "1.152834072528232",
         "0.5397814623541853",
         "0.7522889022459932",
         "-0.4292901468837605",
         "1.2111762779623128",
         "0.21880726957482452",
         "0.49681731706507465",
         "0.15731945906803824",
         "0.3574353973694499",
         "0.5045267171188654",
         "0.7728558820658583",
         "-0.03437845070127261",
         "0.8433272822416945"
        ],
        [
         "max",
         "2.0",
         "1.0",
         "1.0",
         "1.0",
         "1.0",
         "1.0",
         "1.0",
         "1.0",
         "1.0",
         "1.0",
         "1.0",
         "1.0",
         "1.0",
         "1.0",
         "1.0",
         "1.0",
         "1.0",
         "1.0",
         "1.0",
         "1.0",
         "1.0",
         "2.524510678013059",
         "2.421944308197999",
         "2.026510494571292",
         "1.1985150431545986",
         "1.629346238421507",
         "1.792164480848073",
         "2.6950341138752156",
         "1.152834072528232",
         "2.5384684892072147",
         "2.6624808341673427",
         "2.3294268625987633",
         "1.2111762779623128",
         "2.5474710616109655",
         "3.6971742674842667",
         "2.469915507368203",
         "1.7969697374601115",
         "5.433826794646855",
         "3.818138760653718",
         "4.1368735677198005",
         "3.680149032574168"
        ]
       ],
       "shape": {
        "columns": 41,
        "rows": 8
       }
      },
      "text/html": [
       "<div>\n",
       "<style scoped>\n",
       "    .dataframe tbody tr th:only-of-type {\n",
       "        vertical-align: middle;\n",
       "    }\n",
       "\n",
       "    .dataframe tbody tr th {\n",
       "        vertical-align: top;\n",
       "    }\n",
       "\n",
       "    .dataframe thead th {\n",
       "        text-align: right;\n",
       "    }\n",
       "</style>\n",
       "<table border=\"1\" class=\"dataframe\">\n",
       "  <thead>\n",
       "    <tr style=\"text-align: right;\">\n",
       "      <th></th>\n",
       "      <th>0</th>\n",
       "      <th>1</th>\n",
       "      <th>2</th>\n",
       "      <th>3</th>\n",
       "      <th>4</th>\n",
       "      <th>5</th>\n",
       "      <th>6</th>\n",
       "      <th>7</th>\n",
       "      <th>8</th>\n",
       "      <th>9</th>\n",
       "      <th>...</th>\n",
       "      <th>31</th>\n",
       "      <th>32</th>\n",
       "      <th>33</th>\n",
       "      <th>34</th>\n",
       "      <th>35</th>\n",
       "      <th>36</th>\n",
       "      <th>37</th>\n",
       "      <th>38</th>\n",
       "      <th>39</th>\n",
       "      <th>40</th>\n",
       "    </tr>\n",
       "  </thead>\n",
       "  <tbody>\n",
       "    <tr>\n",
       "      <th>count</th>\n",
       "      <td>1176.000000</td>\n",
       "      <td>1176.000000</td>\n",
       "      <td>1176.000000</td>\n",
       "      <td>1176.000000</td>\n",
       "      <td>1176.000000</td>\n",
       "      <td>1176.000000</td>\n",
       "      <td>1176.000000</td>\n",
       "      <td>1176.000000</td>\n",
       "      <td>1176.000000</td>\n",
       "      <td>1176.000000</td>\n",
       "      <td>...</td>\n",
       "      <td>1.176000e+03</td>\n",
       "      <td>1.176000e+03</td>\n",
       "      <td>1.176000e+03</td>\n",
       "      <td>1.176000e+03</td>\n",
       "      <td>1.176000e+03</td>\n",
       "      <td>1.176000e+03</td>\n",
       "      <td>1.176000e+03</td>\n",
       "      <td>1.176000e+03</td>\n",
       "      <td>1.176000e+03</td>\n",
       "      <td>1.176000e+03</td>\n",
       "    </tr>\n",
       "    <tr>\n",
       "      <th>mean</th>\n",
       "      <td>1.097789</td>\n",
       "      <td>0.018707</td>\n",
       "      <td>0.417517</td>\n",
       "      <td>0.105442</td>\n",
       "      <td>0.313776</td>\n",
       "      <td>0.058673</td>\n",
       "      <td>0.085884</td>\n",
       "      <td>0.089286</td>\n",
       "      <td>0.035714</td>\n",
       "      <td>0.173469</td>\n",
       "      <td>...</td>\n",
       "      <td>-4.153896e-16</td>\n",
       "      <td>-1.510508e-17</td>\n",
       "      <td>1.661558e-17</td>\n",
       "      <td>6.344132e-17</td>\n",
       "      <td>-1.895687e-16</td>\n",
       "      <td>-6.042030e-18</td>\n",
       "      <td>1.510508e-18</td>\n",
       "      <td>7.854639e-17</td>\n",
       "      <td>-3.927320e-17</td>\n",
       "      <td>-1.963660e-17</td>\n",
       "    </tr>\n",
       "    <tr>\n",
       "      <th>std</th>\n",
       "      <td>0.529756</td>\n",
       "      <td>0.135548</td>\n",
       "      <td>0.493359</td>\n",
       "      <td>0.307253</td>\n",
       "      <td>0.464224</td>\n",
       "      <td>0.235113</td>\n",
       "      <td>0.280312</td>\n",
       "      <td>0.285277</td>\n",
       "      <td>0.185656</td>\n",
       "      <td>0.378814</td>\n",
       "      <td>...</td>\n",
       "      <td>1.000425e+00</td>\n",
       "      <td>1.000425e+00</td>\n",
       "      <td>1.000425e+00</td>\n",
       "      <td>1.000425e+00</td>\n",
       "      <td>1.000425e+00</td>\n",
       "      <td>1.000425e+00</td>\n",
       "      <td>1.000425e+00</td>\n",
       "      <td>1.000425e+00</td>\n",
       "      <td>1.000425e+00</td>\n",
       "      <td>1.000425e+00</td>\n",
       "    </tr>\n",
       "    <tr>\n",
       "      <th>min</th>\n",
       "      <td>0.000000</td>\n",
       "      <td>0.000000</td>\n",
       "      <td>0.000000</td>\n",
       "      <td>0.000000</td>\n",
       "      <td>0.000000</td>\n",
       "      <td>0.000000</td>\n",
       "      <td>0.000000</td>\n",
       "      <td>0.000000</td>\n",
       "      <td>0.000000</td>\n",
       "      <td>0.000000</td>\n",
       "      <td>...</td>\n",
       "      <td>-4.292901e-01</td>\n",
       "      <td>-1.565321e+00</td>\n",
       "      <td>-9.455246e-01</td>\n",
       "      <td>-1.423397e+00</td>\n",
       "      <td>-2.155277e+00</td>\n",
       "      <td>-2.521633e+00</td>\n",
       "      <td>-1.138573e+00</td>\n",
       "      <td>-1.165051e+00</td>\n",
       "      <td>-6.761095e-01</td>\n",
       "      <td>-1.142448e+00</td>\n",
       "    </tr>\n",
       "    <tr>\n",
       "      <th>25%</th>\n",
       "      <td>1.000000</td>\n",
       "      <td>0.000000</td>\n",
       "      <td>0.000000</td>\n",
       "      <td>0.000000</td>\n",
       "      <td>0.000000</td>\n",
       "      <td>0.000000</td>\n",
       "      <td>0.000000</td>\n",
       "      <td>0.000000</td>\n",
       "      <td>0.000000</td>\n",
       "      <td>0.000000</td>\n",
       "      <td>...</td>\n",
       "      <td>-4.292901e-01</td>\n",
       "      <td>-6.398222e-01</td>\n",
       "      <td>-9.455246e-01</td>\n",
       "      <td>-6.553112e-01</td>\n",
       "      <td>-6.135459e-01</td>\n",
       "      <td>-1.082099e+00</td>\n",
       "      <td>-6.456433e-01</td>\n",
       "      <td>-6.113636e-01</td>\n",
       "      <td>-6.761095e-01</td>\n",
       "      <td>-5.750836e-01</td>\n",
       "    </tr>\n",
       "    <tr>\n",
       "      <th>50%</th>\n",
       "      <td>1.000000</td>\n",
       "      <td>0.000000</td>\n",
       "      <td>0.000000</td>\n",
       "      <td>0.000000</td>\n",
       "      <td>0.000000</td>\n",
       "      <td>0.000000</td>\n",
       "      <td>0.000000</td>\n",
       "      <td>0.000000</td>\n",
       "      <td>0.000000</td>\n",
       "      <td>0.000000</td>\n",
       "      <td>...</td>\n",
       "      <td>-4.292901e-01</td>\n",
       "      <td>2.856771e-01</td>\n",
       "      <td>2.188073e-01</td>\n",
       "      <td>-1.432541e-01</td>\n",
       "      <td>1.573195e-01</td>\n",
       "      <td>3.574354e-01</td>\n",
       "      <td>-3.170233e-01</td>\n",
       "      <td>-3.345197e-01</td>\n",
       "      <td>-3.552440e-01</td>\n",
       "      <td>-2.914014e-01</td>\n",
       "    </tr>\n",
       "    <tr>\n",
       "      <th>75%</th>\n",
       "      <td>1.000000</td>\n",
       "      <td>0.000000</td>\n",
       "      <td>1.000000</td>\n",
       "      <td>0.000000</td>\n",
       "      <td>1.000000</td>\n",
       "      <td>0.000000</td>\n",
       "      <td>0.000000</td>\n",
       "      <td>0.000000</td>\n",
       "      <td>0.000000</td>\n",
       "      <td>0.000000</td>\n",
       "      <td>...</td>\n",
       "      <td>-4.292901e-01</td>\n",
       "      <td>1.211176e+00</td>\n",
       "      <td>2.188073e-01</td>\n",
       "      <td>4.968173e-01</td>\n",
       "      <td>1.573195e-01</td>\n",
       "      <td>3.574354e-01</td>\n",
       "      <td>5.045267e-01</td>\n",
       "      <td>7.728559e-01</td>\n",
       "      <td>-3.437845e-02</td>\n",
       "      <td>8.433273e-01</td>\n",
       "    </tr>\n",
       "    <tr>\n",
       "      <th>max</th>\n",
       "      <td>2.000000</td>\n",
       "      <td>1.000000</td>\n",
       "      <td>1.000000</td>\n",
       "      <td>1.000000</td>\n",
       "      <td>1.000000</td>\n",
       "      <td>1.000000</td>\n",
       "      <td>1.000000</td>\n",
       "      <td>1.000000</td>\n",
       "      <td>1.000000</td>\n",
       "      <td>1.000000</td>\n",
       "      <td>...</td>\n",
       "      <td>2.329427e+00</td>\n",
       "      <td>1.211176e+00</td>\n",
       "      <td>2.547471e+00</td>\n",
       "      <td>3.697174e+00</td>\n",
       "      <td>2.469916e+00</td>\n",
       "      <td>1.796970e+00</td>\n",
       "      <td>5.433827e+00</td>\n",
       "      <td>3.818139e+00</td>\n",
       "      <td>4.136874e+00</td>\n",
       "      <td>3.680149e+00</td>\n",
       "    </tr>\n",
       "  </tbody>\n",
       "</table>\n",
       "<p>8 rows × 41 columns</p>\n",
       "</div>"
      ],
      "text/plain": [
       "                0            1            2            3            4   \\\n",
       "count  1176.000000  1176.000000  1176.000000  1176.000000  1176.000000   \n",
       "mean      1.097789     0.018707     0.417517     0.105442     0.313776   \n",
       "std       0.529756     0.135548     0.493359     0.307253     0.464224   \n",
       "min       0.000000     0.000000     0.000000     0.000000     0.000000   \n",
       "25%       1.000000     0.000000     0.000000     0.000000     0.000000   \n",
       "50%       1.000000     0.000000     0.000000     0.000000     0.000000   \n",
       "75%       1.000000     0.000000     1.000000     0.000000     1.000000   \n",
       "max       2.000000     1.000000     1.000000     1.000000     1.000000   \n",
       "\n",
       "                5            6            7            8            9   ...  \\\n",
       "count  1176.000000  1176.000000  1176.000000  1176.000000  1176.000000  ...   \n",
       "mean      0.058673     0.085884     0.089286     0.035714     0.173469  ...   \n",
       "std       0.235113     0.280312     0.285277     0.185656     0.378814  ...   \n",
       "min       0.000000     0.000000     0.000000     0.000000     0.000000  ...   \n",
       "25%       0.000000     0.000000     0.000000     0.000000     0.000000  ...   \n",
       "50%       0.000000     0.000000     0.000000     0.000000     0.000000  ...   \n",
       "75%       0.000000     0.000000     0.000000     0.000000     0.000000  ...   \n",
       "max       1.000000     1.000000     1.000000     1.000000     1.000000  ...   \n",
       "\n",
       "                 31            32            33            34            35  \\\n",
       "count  1.176000e+03  1.176000e+03  1.176000e+03  1.176000e+03  1.176000e+03   \n",
       "mean  -4.153896e-16 -1.510508e-17  1.661558e-17  6.344132e-17 -1.895687e-16   \n",
       "std    1.000425e+00  1.000425e+00  1.000425e+00  1.000425e+00  1.000425e+00   \n",
       "min   -4.292901e-01 -1.565321e+00 -9.455246e-01 -1.423397e+00 -2.155277e+00   \n",
       "25%   -4.292901e-01 -6.398222e-01 -9.455246e-01 -6.553112e-01 -6.135459e-01   \n",
       "50%   -4.292901e-01  2.856771e-01  2.188073e-01 -1.432541e-01  1.573195e-01   \n",
       "75%   -4.292901e-01  1.211176e+00  2.188073e-01  4.968173e-01  1.573195e-01   \n",
       "max    2.329427e+00  1.211176e+00  2.547471e+00  3.697174e+00  2.469916e+00   \n",
       "\n",
       "                 36            37            38            39            40  \n",
       "count  1.176000e+03  1.176000e+03  1.176000e+03  1.176000e+03  1.176000e+03  \n",
       "mean  -6.042030e-18  1.510508e-18  7.854639e-17 -3.927320e-17 -1.963660e-17  \n",
       "std    1.000425e+00  1.000425e+00  1.000425e+00  1.000425e+00  1.000425e+00  \n",
       "min   -2.521633e+00 -1.138573e+00 -1.165051e+00 -6.761095e-01 -1.142448e+00  \n",
       "25%   -1.082099e+00 -6.456433e-01 -6.113636e-01 -6.761095e-01 -5.750836e-01  \n",
       "50%    3.574354e-01 -3.170233e-01 -3.345197e-01 -3.552440e-01 -2.914014e-01  \n",
       "75%    3.574354e-01  5.045267e-01  7.728559e-01 -3.437845e-02  8.433273e-01  \n",
       "max    1.796970e+00  5.433827e+00  3.818139e+00  4.136874e+00  3.680149e+00  \n",
       "\n",
       "[8 rows x 41 columns]"
      ]
     },
     "execution_count": 32,
     "metadata": {},
     "output_type": "execute_result"
    }
   ],
   "source": [
    "#check X_train encoded values\n",
    "X_train_encoded_df=pd.DataFrame(X_train_encoded)\n",
    "X_train_encoded_df.describe()"
   ]
  },
  {
   "cell_type": "code",
   "execution_count": 10,
   "metadata": {
    "colab": {
     "base_uri": "https://localhost:8080/"
    },
    "executionInfo": {
     "elapsed": 99,
     "status": "ok",
     "timestamp": 1730699227256,
     "user": {
      "displayName": "Alexander Booth",
      "userId": "02269714993535573104"
     },
     "user_tz": 360
    },
    "id": "-z0Mky8vQSz4",
    "outputId": "5024d63f-7e4e-4a91-fb76-0b2c79c1bcfb"
   },
   "outputs": [
    {
     "data": {
      "application/vnd.microsoft.datawrangler.viewer.v0+json": {
       "columns": [
        {
         "name": "index",
         "rawType": "int64",
         "type": "integer"
        },
        {
         "name": "Department_Human Resources",
         "rawType": "bool",
         "type": "boolean"
        },
        {
         "name": "Department_Research & Development",
         "rawType": "bool",
         "type": "boolean"
        },
        {
         "name": "Department_Sales",
         "rawType": "bool",
         "type": "boolean"
        }
       ],
       "conversionMethod": "pd.DataFrame",
       "ref": "3d05969a-e90a-4523-88c8-e57f34ea24fe",
       "rows": [
        [
         "1097",
         "False",
         "True",
         "False"
        ],
        [
         "727",
         "False",
         "True",
         "False"
        ],
        [
         "254",
         "False",
         "False",
         "True"
        ],
        [
         "1175",
         "False",
         "True",
         "False"
        ],
        [
         "1341",
         "False",
         "True",
         "False"
        ],
        [
         "1347",
         "True",
         "False",
         "False"
        ],
        [
         "983",
         "False",
         "True",
         "False"
        ],
        [
         "759",
         "True",
         "False",
         "False"
        ],
        [
         "86",
         "False",
         "False",
         "True"
        ],
        [
         "1394",
         "False",
         "True",
         "False"
        ],
        [
         "265",
         "False",
         "False",
         "True"
        ],
        [
         "621",
         "False",
         "False",
         "True"
        ],
        [
         "1454",
         "False",
         "False",
         "True"
        ],
        [
         "1217",
         "False",
         "True",
         "False"
        ],
        [
         "1107",
         "True",
         "False",
         "False"
        ],
        [
         "514",
         "False",
         "True",
         "False"
        ],
        [
         "706",
         "False",
         "False",
         "True"
        ],
        [
         "221",
         "False",
         "True",
         "False"
        ],
        [
         "113",
         "False",
         "True",
         "False"
        ],
        [
         "818",
         "False",
         "False",
         "True"
        ],
        [
         "561",
         "False",
         "False",
         "True"
        ],
        [
         "174",
         "False",
         "False",
         "True"
        ],
        [
         "907",
         "False",
         "False",
         "True"
        ],
        [
         "793",
         "False",
         "True",
         "False"
        ],
        [
         "1277",
         "False",
         "True",
         "False"
        ],
        [
         "1301",
         "False",
         "False",
         "True"
        ],
        [
         "942",
         "False",
         "True",
         "False"
        ],
        [
         "285",
         "False",
         "True",
         "False"
        ],
        [
         "1089",
         "False",
         "True",
         "False"
        ],
        [
         "420",
         "False",
         "True",
         "False"
        ],
        [
         "1173",
         "False",
         "True",
         "False"
        ],
        [
         "31",
         "False",
         "True",
         "False"
        ],
        [
         "532",
         "False",
         "False",
         "True"
        ],
        [
         "210",
         "False",
         "False",
         "True"
        ],
        [
         "1352",
         "False",
         "True",
         "False"
        ],
        [
         "1075",
         "False",
         "True",
         "False"
        ],
        [
         "1027",
         "False",
         "True",
         "False"
        ],
        [
         "631",
         "False",
         "True",
         "False"
        ],
        [
         "894",
         "False",
         "True",
         "False"
        ],
        [
         "898",
         "False",
         "True",
         "False"
        ],
        [
         "188",
         "False",
         "True",
         "False"
        ],
        [
         "382",
         "False",
         "True",
         "False"
        ],
        [
         "963",
         "False",
         "False",
         "True"
        ],
        [
         "1364",
         "False",
         "False",
         "True"
        ],
        [
         "1001",
         "False",
         "True",
         "False"
        ],
        [
         "83",
         "False",
         "True",
         "False"
        ],
        [
         "1309",
         "False",
         "False",
         "True"
        ],
        [
         "48",
         "False",
         "False",
         "True"
        ],
        [
         "155",
         "False",
         "True",
         "False"
        ],
        [
         "594",
         "False",
         "True",
         "False"
        ]
       ],
       "shape": {
        "columns": 3,
        "rows": 1176
       }
      },
      "text/html": [
       "<div>\n",
       "<style scoped>\n",
       "    .dataframe tbody tr th:only-of-type {\n",
       "        vertical-align: middle;\n",
       "    }\n",
       "\n",
       "    .dataframe tbody tr th {\n",
       "        vertical-align: top;\n",
       "    }\n",
       "\n",
       "    .dataframe thead th {\n",
       "        text-align: right;\n",
       "    }\n",
       "</style>\n",
       "<table border=\"1\" class=\"dataframe\">\n",
       "  <thead>\n",
       "    <tr style=\"text-align: right;\">\n",
       "      <th></th>\n",
       "      <th>Department_Human Resources</th>\n",
       "      <th>Department_Research &amp; Development</th>\n",
       "      <th>Department_Sales</th>\n",
       "    </tr>\n",
       "  </thead>\n",
       "  <tbody>\n",
       "    <tr>\n",
       "      <th>1097</th>\n",
       "      <td>False</td>\n",
       "      <td>True</td>\n",
       "      <td>False</td>\n",
       "    </tr>\n",
       "    <tr>\n",
       "      <th>727</th>\n",
       "      <td>False</td>\n",
       "      <td>True</td>\n",
       "      <td>False</td>\n",
       "    </tr>\n",
       "    <tr>\n",
       "      <th>254</th>\n",
       "      <td>False</td>\n",
       "      <td>False</td>\n",
       "      <td>True</td>\n",
       "    </tr>\n",
       "    <tr>\n",
       "      <th>1175</th>\n",
       "      <td>False</td>\n",
       "      <td>True</td>\n",
       "      <td>False</td>\n",
       "    </tr>\n",
       "    <tr>\n",
       "      <th>1341</th>\n",
       "      <td>False</td>\n",
       "      <td>True</td>\n",
       "      <td>False</td>\n",
       "    </tr>\n",
       "    <tr>\n",
       "      <th>...</th>\n",
       "      <td>...</td>\n",
       "      <td>...</td>\n",
       "      <td>...</td>\n",
       "    </tr>\n",
       "    <tr>\n",
       "      <th>1130</th>\n",
       "      <td>False</td>\n",
       "      <td>True</td>\n",
       "      <td>False</td>\n",
       "    </tr>\n",
       "    <tr>\n",
       "      <th>1294</th>\n",
       "      <td>False</td>\n",
       "      <td>True</td>\n",
       "      <td>False</td>\n",
       "    </tr>\n",
       "    <tr>\n",
       "      <th>860</th>\n",
       "      <td>False</td>\n",
       "      <td>True</td>\n",
       "      <td>False</td>\n",
       "    </tr>\n",
       "    <tr>\n",
       "      <th>1459</th>\n",
       "      <td>False</td>\n",
       "      <td>True</td>\n",
       "      <td>False</td>\n",
       "    </tr>\n",
       "    <tr>\n",
       "      <th>1126</th>\n",
       "      <td>False</td>\n",
       "      <td>False</td>\n",
       "      <td>True</td>\n",
       "    </tr>\n",
       "  </tbody>\n",
       "</table>\n",
       "<p>1176 rows × 3 columns</p>\n",
       "</div>"
      ],
      "text/plain": [
       "      Department_Human Resources  Department_Research & Development  \\\n",
       "1097                       False                               True   \n",
       "727                        False                               True   \n",
       "254                        False                              False   \n",
       "1175                       False                               True   \n",
       "1341                       False                               True   \n",
       "...                          ...                                ...   \n",
       "1130                       False                               True   \n",
       "1294                       False                               True   \n",
       "860                        False                               True   \n",
       "1459                       False                               True   \n",
       "1126                       False                              False   \n",
       "\n",
       "      Department_Sales  \n",
       "1097             False  \n",
       "727              False  \n",
       "254               True  \n",
       "1175             False  \n",
       "1341             False  \n",
       "...                ...  \n",
       "1130             False  \n",
       "1294             False  \n",
       "860              False  \n",
       "1459             False  \n",
       "1126              True  \n",
       "\n",
       "[1176 rows x 3 columns]"
      ]
     },
     "metadata": {},
     "output_type": "display_data"
    },
    {
     "data": {
      "application/vnd.microsoft.datawrangler.viewer.v0+json": {
       "columns": [
        {
         "name": "index",
         "rawType": "int64",
         "type": "integer"
        },
        {
         "name": "Department_Human Resources",
         "rawType": "bool",
         "type": "boolean"
        },
        {
         "name": "Department_Research & Development",
         "rawType": "bool",
         "type": "boolean"
        },
        {
         "name": "Department_Sales",
         "rawType": "bool",
         "type": "boolean"
        }
       ],
       "conversionMethod": "pd.DataFrame",
       "ref": "19c615ed-81f6-4f1d-9084-38df09bed68f",
       "rows": [
        [
         "1041",
         "False",
         "False",
         "True"
        ],
        [
         "184",
         "False",
         "True",
         "False"
        ],
        [
         "1222",
         "True",
         "False",
         "False"
        ],
        [
         "67",
         "False",
         "True",
         "False"
        ],
        [
         "220",
         "False",
         "True",
         "False"
        ],
        [
         "494",
         "False",
         "False",
         "True"
        ],
        [
         "430",
         "False",
         "True",
         "False"
        ],
        [
         "240",
         "False",
         "True",
         "False"
        ],
        [
         "218",
         "False",
         "False",
         "True"
        ],
        [
         "49",
         "False",
         "True",
         "False"
        ],
        [
         "665",
         "False",
         "False",
         "True"
        ],
        [
         "926",
         "False",
         "False",
         "True"
        ],
        [
         "617",
         "False",
         "True",
         "False"
        ],
        [
         "361",
         "False",
         "True",
         "False"
        ],
        [
         "1423",
         "False",
         "True",
         "False"
        ],
        [
         "1244",
         "False",
         "True",
         "False"
        ],
        [
         "1250",
         "False",
         "True",
         "False"
        ],
        [
         "752",
         "False",
         "True",
         "False"
        ],
        [
         "271",
         "False",
         "True",
         "False"
        ],
        [
         "1055",
         "False",
         "True",
         "False"
        ],
        [
         "259",
         "False",
         "True",
         "False"
        ],
        [
         "428",
         "False",
         "True",
         "False"
        ],
        [
         "1026",
         "False",
         "False",
         "True"
        ],
        [
         "277",
         "False",
         "False",
         "True"
        ],
        [
         "1105",
         "False",
         "False",
         "True"
        ],
        [
         "1116",
         "False",
         "False",
         "True"
        ],
        [
         "670",
         "False",
         "True",
         "False"
        ],
        [
         "619",
         "False",
         "False",
         "True"
        ],
        [
         "1046",
         "False",
         "True",
         "False"
        ],
        [
         "247",
         "False",
         "True",
         "False"
        ],
        [
         "1259",
         "False",
         "True",
         "False"
        ],
        [
         "733",
         "False",
         "True",
         "False"
        ],
        [
         "582",
         "False",
         "True",
         "False"
        ],
        [
         "464",
         "False",
         "True",
         "False"
        ],
        [
         "1236",
         "False",
         "False",
         "True"
        ],
        [
         "704",
         "False",
         "False",
         "True"
        ],
        [
         "1040",
         "False",
         "True",
         "False"
        ],
        [
         "864",
         "False",
         "True",
         "False"
        ],
        [
         "51",
         "False",
         "True",
         "False"
        ],
        [
         "1307",
         "False",
         "True",
         "False"
        ],
        [
         "168",
         "False",
         "False",
         "True"
        ],
        [
         "1094",
         "False",
         "False",
         "True"
        ],
        [
         "1113",
         "False",
         "True",
         "False"
        ],
        [
         "765",
         "False",
         "True",
         "False"
        ],
        [
         "363",
         "False",
         "False",
         "True"
        ],
        [
         "261",
         "False",
         "False",
         "True"
        ],
        [
         "946",
         "False",
         "False",
         "True"
        ],
        [
         "591",
         "False",
         "False",
         "True"
        ],
        [
         "528",
         "False",
         "False",
         "True"
        ],
        [
         "892",
         "False",
         "True",
         "False"
        ]
       ],
       "shape": {
        "columns": 3,
        "rows": 294
       }
      },
      "text/html": [
       "<div>\n",
       "<style scoped>\n",
       "    .dataframe tbody tr th:only-of-type {\n",
       "        vertical-align: middle;\n",
       "    }\n",
       "\n",
       "    .dataframe tbody tr th {\n",
       "        vertical-align: top;\n",
       "    }\n",
       "\n",
       "    .dataframe thead th {\n",
       "        text-align: right;\n",
       "    }\n",
       "</style>\n",
       "<table border=\"1\" class=\"dataframe\">\n",
       "  <thead>\n",
       "    <tr style=\"text-align: right;\">\n",
       "      <th></th>\n",
       "      <th>Department_Human Resources</th>\n",
       "      <th>Department_Research &amp; Development</th>\n",
       "      <th>Department_Sales</th>\n",
       "    </tr>\n",
       "  </thead>\n",
       "  <tbody>\n",
       "    <tr>\n",
       "      <th>1041</th>\n",
       "      <td>False</td>\n",
       "      <td>False</td>\n",
       "      <td>True</td>\n",
       "    </tr>\n",
       "    <tr>\n",
       "      <th>184</th>\n",
       "      <td>False</td>\n",
       "      <td>True</td>\n",
       "      <td>False</td>\n",
       "    </tr>\n",
       "    <tr>\n",
       "      <th>1222</th>\n",
       "      <td>True</td>\n",
       "      <td>False</td>\n",
       "      <td>False</td>\n",
       "    </tr>\n",
       "    <tr>\n",
       "      <th>67</th>\n",
       "      <td>False</td>\n",
       "      <td>True</td>\n",
       "      <td>False</td>\n",
       "    </tr>\n",
       "    <tr>\n",
       "      <th>220</th>\n",
       "      <td>False</td>\n",
       "      <td>True</td>\n",
       "      <td>False</td>\n",
       "    </tr>\n",
       "    <tr>\n",
       "      <th>...</th>\n",
       "      <td>...</td>\n",
       "      <td>...</td>\n",
       "      <td>...</td>\n",
       "    </tr>\n",
       "    <tr>\n",
       "      <th>567</th>\n",
       "      <td>False</td>\n",
       "      <td>False</td>\n",
       "      <td>True</td>\n",
       "    </tr>\n",
       "    <tr>\n",
       "      <th>560</th>\n",
       "      <td>False</td>\n",
       "      <td>True</td>\n",
       "      <td>False</td>\n",
       "    </tr>\n",
       "    <tr>\n",
       "      <th>945</th>\n",
       "      <td>False</td>\n",
       "      <td>True</td>\n",
       "      <td>False</td>\n",
       "    </tr>\n",
       "    <tr>\n",
       "      <th>522</th>\n",
       "      <td>False</td>\n",
       "      <td>True</td>\n",
       "      <td>False</td>\n",
       "    </tr>\n",
       "    <tr>\n",
       "      <th>651</th>\n",
       "      <td>False</td>\n",
       "      <td>False</td>\n",
       "      <td>True</td>\n",
       "    </tr>\n",
       "  </tbody>\n",
       "</table>\n",
       "<p>294 rows × 3 columns</p>\n",
       "</div>"
      ],
      "text/plain": [
       "      Department_Human Resources  Department_Research & Development  \\\n",
       "1041                       False                              False   \n",
       "184                        False                               True   \n",
       "1222                        True                              False   \n",
       "67                         False                               True   \n",
       "220                        False                               True   \n",
       "...                          ...                                ...   \n",
       "567                        False                              False   \n",
       "560                        False                               True   \n",
       "945                        False                               True   \n",
       "522                        False                               True   \n",
       "651                        False                              False   \n",
       "\n",
       "      Department_Sales  \n",
       "1041              True  \n",
       "184              False  \n",
       "1222             False  \n",
       "67               False  \n",
       "220              False  \n",
       "...                ...  \n",
       "567               True  \n",
       "560              False  \n",
       "945              False  \n",
       "522              False  \n",
       "651               True  \n",
       "\n",
       "[294 rows x 3 columns]"
      ]
     },
     "metadata": {},
     "output_type": "display_data"
    }
   ],
   "source": [
    "# Create a OneHotEncoder for the Department column\n",
    "\n",
    "\n",
    "# Fit the encoder to the training data\n",
    "\n",
    "\n",
    "# Create two new variables by applying the encoder\n",
    "# to the training and testing data\n",
    "\n",
    "y_train_dept_encode=pd.get_dummies(y_train,columns=[\"Department\"],drop_first=False).drop(columns=\"Attrition\")\n",
    "\n",
    "y_test_dept_encode=pd.get_dummies(y_test,columns=[\"Department\"],drop_first=False).drop(columns=\"Attrition\")\n",
    "\n",
    "display(y_train_dept_encode)\n",
    "display(y_test_dept_encode)\n"
   ]
  },
  {
   "cell_type": "code",
   "execution_count": 51,
   "metadata": {
    "colab": {
     "base_uri": "https://localhost:8080/"
    },
    "executionInfo": {
     "elapsed": 5,
     "status": "ok",
     "timestamp": 1730699227257,
     "user": {
      "displayName": "Alexander Booth",
      "userId": "02269714993535573104"
     },
     "user_tz": 360
    },
    "id": "-G4DSpvFRrk4",
    "outputId": "1821049e-a4f0-437f-b8a7-e415431fbdb0"
   },
   "outputs": [
    {
     "data": {
      "application/vnd.microsoft.datawrangler.viewer.v0+json": {
       "columns": [
        {
         "name": "index",
         "rawType": "int64",
         "type": "integer"
        },
        {
         "name": "Attrition_No",
         "rawType": "bool",
         "type": "boolean"
        },
        {
         "name": "Attrition_Yes",
         "rawType": "bool",
         "type": "boolean"
        }
       ],
       "conversionMethod": "pd.DataFrame",
       "ref": "310ffa92-f25d-4ac8-b0cb-6771ccec55b3",
       "rows": [
        [
         "1097",
         "True",
         "False"
        ],
        [
         "727",
         "True",
         "False"
        ],
        [
         "254",
         "True",
         "False"
        ],
        [
         "1175",
         "True",
         "False"
        ],
        [
         "1341",
         "True",
         "False"
        ],
        [
         "1347",
         "True",
         "False"
        ],
        [
         "983",
         "True",
         "False"
        ],
        [
         "759",
         "True",
         "False"
        ],
        [
         "86",
         "True",
         "False"
        ],
        [
         "1394",
         "True",
         "False"
        ],
        [
         "265",
         "True",
         "False"
        ],
        [
         "621",
         "True",
         "False"
        ],
        [
         "1454",
         "True",
         "False"
        ],
        [
         "1217",
         "True",
         "False"
        ],
        [
         "1107",
         "True",
         "False"
        ],
        [
         "514",
         "False",
         "True"
        ],
        [
         "706",
         "False",
         "True"
        ],
        [
         "221",
         "True",
         "False"
        ],
        [
         "113",
         "True",
         "False"
        ],
        [
         "818",
         "True",
         "False"
        ],
        [
         "561",
         "True",
         "False"
        ],
        [
         "174",
         "True",
         "False"
        ],
        [
         "907",
         "True",
         "False"
        ],
        [
         "793",
         "True",
         "False"
        ],
        [
         "1277",
         "True",
         "False"
        ],
        [
         "1301",
         "True",
         "False"
        ],
        [
         "942",
         "True",
         "False"
        ],
        [
         "285",
         "True",
         "False"
        ],
        [
         "1089",
         "True",
         "False"
        ],
        [
         "420",
         "True",
         "False"
        ],
        [
         "1173",
         "True",
         "False"
        ],
        [
         "31",
         "True",
         "False"
        ],
        [
         "532",
         "True",
         "False"
        ],
        [
         "210",
         "False",
         "True"
        ],
        [
         "1352",
         "True",
         "False"
        ],
        [
         "1075",
         "True",
         "False"
        ],
        [
         "1027",
         "True",
         "False"
        ],
        [
         "631",
         "True",
         "False"
        ],
        [
         "894",
         "True",
         "False"
        ],
        [
         "898",
         "True",
         "False"
        ],
        [
         "188",
         "True",
         "False"
        ],
        [
         "382",
         "False",
         "True"
        ],
        [
         "963",
         "True",
         "False"
        ],
        [
         "1364",
         "True",
         "False"
        ],
        [
         "1001",
         "True",
         "False"
        ],
        [
         "83",
         "True",
         "False"
        ],
        [
         "1309",
         "True",
         "False"
        ],
        [
         "48",
         "True",
         "False"
        ],
        [
         "155",
         "True",
         "False"
        ],
        [
         "594",
         "True",
         "False"
        ]
       ],
       "shape": {
        "columns": 2,
        "rows": 1176
       }
      },
      "text/html": [
       "<div>\n",
       "<style scoped>\n",
       "    .dataframe tbody tr th:only-of-type {\n",
       "        vertical-align: middle;\n",
       "    }\n",
       "\n",
       "    .dataframe tbody tr th {\n",
       "        vertical-align: top;\n",
       "    }\n",
       "\n",
       "    .dataframe thead th {\n",
       "        text-align: right;\n",
       "    }\n",
       "</style>\n",
       "<table border=\"1\" class=\"dataframe\">\n",
       "  <thead>\n",
       "    <tr style=\"text-align: right;\">\n",
       "      <th></th>\n",
       "      <th>Attrition_No</th>\n",
       "      <th>Attrition_Yes</th>\n",
       "    </tr>\n",
       "  </thead>\n",
       "  <tbody>\n",
       "    <tr>\n",
       "      <th>1097</th>\n",
       "      <td>True</td>\n",
       "      <td>False</td>\n",
       "    </tr>\n",
       "    <tr>\n",
       "      <th>727</th>\n",
       "      <td>True</td>\n",
       "      <td>False</td>\n",
       "    </tr>\n",
       "    <tr>\n",
       "      <th>254</th>\n",
       "      <td>True</td>\n",
       "      <td>False</td>\n",
       "    </tr>\n",
       "    <tr>\n",
       "      <th>1175</th>\n",
       "      <td>True</td>\n",
       "      <td>False</td>\n",
       "    </tr>\n",
       "    <tr>\n",
       "      <th>1341</th>\n",
       "      <td>True</td>\n",
       "      <td>False</td>\n",
       "    </tr>\n",
       "    <tr>\n",
       "      <th>...</th>\n",
       "      <td>...</td>\n",
       "      <td>...</td>\n",
       "    </tr>\n",
       "    <tr>\n",
       "      <th>1130</th>\n",
       "      <td>True</td>\n",
       "      <td>False</td>\n",
       "    </tr>\n",
       "    <tr>\n",
       "      <th>1294</th>\n",
       "      <td>True</td>\n",
       "      <td>False</td>\n",
       "    </tr>\n",
       "    <tr>\n",
       "      <th>860</th>\n",
       "      <td>False</td>\n",
       "      <td>True</td>\n",
       "    </tr>\n",
       "    <tr>\n",
       "      <th>1459</th>\n",
       "      <td>True</td>\n",
       "      <td>False</td>\n",
       "    </tr>\n",
       "    <tr>\n",
       "      <th>1126</th>\n",
       "      <td>True</td>\n",
       "      <td>False</td>\n",
       "    </tr>\n",
       "  </tbody>\n",
       "</table>\n",
       "<p>1176 rows × 2 columns</p>\n",
       "</div>"
      ],
      "text/plain": [
       "      Attrition_No  Attrition_Yes\n",
       "1097          True          False\n",
       "727           True          False\n",
       "254           True          False\n",
       "1175          True          False\n",
       "1341          True          False\n",
       "...            ...            ...\n",
       "1130          True          False\n",
       "1294          True          False\n",
       "860          False           True\n",
       "1459          True          False\n",
       "1126          True          False\n",
       "\n",
       "[1176 rows x 2 columns]"
      ]
     },
     "metadata": {},
     "output_type": "display_data"
    },
    {
     "data": {
      "application/vnd.microsoft.datawrangler.viewer.v0+json": {
       "columns": [
        {
         "name": "index",
         "rawType": "int64",
         "type": "integer"
        },
        {
         "name": "Attrition_No",
         "rawType": "bool",
         "type": "boolean"
        },
        {
         "name": "Attrition_Yes",
         "rawType": "bool",
         "type": "boolean"
        }
       ],
       "conversionMethod": "pd.DataFrame",
       "ref": "a4919f54-1b07-48e2-b119-2a4e89568b76",
       "rows": [
        [
         "1041",
         "True",
         "False"
        ],
        [
         "184",
         "True",
         "False"
        ],
        [
         "1222",
         "False",
         "True"
        ],
        [
         "67",
         "True",
         "False"
        ],
        [
         "220",
         "True",
         "False"
        ],
        [
         "494",
         "True",
         "False"
        ],
        [
         "430",
         "True",
         "False"
        ],
        [
         "240",
         "True",
         "False"
        ],
        [
         "218",
         "True",
         "False"
        ],
        [
         "49",
         "True",
         "False"
        ],
        [
         "665",
         "True",
         "False"
        ],
        [
         "926",
         "True",
         "False"
        ],
        [
         "617",
         "True",
         "False"
        ],
        [
         "361",
         "True",
         "False"
        ],
        [
         "1423",
         "True",
         "False"
        ],
        [
         "1244",
         "True",
         "False"
        ],
        [
         "1250",
         "True",
         "False"
        ],
        [
         "752",
         "False",
         "True"
        ],
        [
         "271",
         "False",
         "True"
        ],
        [
         "1055",
         "True",
         "False"
        ],
        [
         "259",
         "False",
         "True"
        ],
        [
         "428",
         "True",
         "False"
        ],
        [
         "1026",
         "True",
         "False"
        ],
        [
         "277",
         "True",
         "False"
        ],
        [
         "1105",
         "True",
         "False"
        ],
        [
         "1116",
         "True",
         "False"
        ],
        [
         "670",
         "True",
         "False"
        ],
        [
         "619",
         "True",
         "False"
        ],
        [
         "1046",
         "True",
         "False"
        ],
        [
         "247",
         "True",
         "False"
        ],
        [
         "1259",
         "True",
         "False"
        ],
        [
         "733",
         "True",
         "False"
        ],
        [
         "582",
         "True",
         "False"
        ],
        [
         "464",
         "True",
         "False"
        ],
        [
         "1236",
         "False",
         "True"
        ],
        [
         "704",
         "True",
         "False"
        ],
        [
         "1040",
         "True",
         "False"
        ],
        [
         "864",
         "False",
         "True"
        ],
        [
         "51",
         "False",
         "True"
        ],
        [
         "1307",
         "True",
         "False"
        ],
        [
         "168",
         "True",
         "False"
        ],
        [
         "1094",
         "True",
         "False"
        ],
        [
         "1113",
         "True",
         "False"
        ],
        [
         "765",
         "True",
         "False"
        ],
        [
         "363",
         "False",
         "True"
        ],
        [
         "261",
         "True",
         "False"
        ],
        [
         "946",
         "False",
         "True"
        ],
        [
         "591",
         "False",
         "True"
        ],
        [
         "528",
         "False",
         "True"
        ],
        [
         "892",
         "False",
         "True"
        ]
       ],
       "shape": {
        "columns": 2,
        "rows": 294
       }
      },
      "text/html": [
       "<div>\n",
       "<style scoped>\n",
       "    .dataframe tbody tr th:only-of-type {\n",
       "        vertical-align: middle;\n",
       "    }\n",
       "\n",
       "    .dataframe tbody tr th {\n",
       "        vertical-align: top;\n",
       "    }\n",
       "\n",
       "    .dataframe thead th {\n",
       "        text-align: right;\n",
       "    }\n",
       "</style>\n",
       "<table border=\"1\" class=\"dataframe\">\n",
       "  <thead>\n",
       "    <tr style=\"text-align: right;\">\n",
       "      <th></th>\n",
       "      <th>Attrition_No</th>\n",
       "      <th>Attrition_Yes</th>\n",
       "    </tr>\n",
       "  </thead>\n",
       "  <tbody>\n",
       "    <tr>\n",
       "      <th>1041</th>\n",
       "      <td>True</td>\n",
       "      <td>False</td>\n",
       "    </tr>\n",
       "    <tr>\n",
       "      <th>184</th>\n",
       "      <td>True</td>\n",
       "      <td>False</td>\n",
       "    </tr>\n",
       "    <tr>\n",
       "      <th>1222</th>\n",
       "      <td>False</td>\n",
       "      <td>True</td>\n",
       "    </tr>\n",
       "    <tr>\n",
       "      <th>67</th>\n",
       "      <td>True</td>\n",
       "      <td>False</td>\n",
       "    </tr>\n",
       "    <tr>\n",
       "      <th>220</th>\n",
       "      <td>True</td>\n",
       "      <td>False</td>\n",
       "    </tr>\n",
       "    <tr>\n",
       "      <th>...</th>\n",
       "      <td>...</td>\n",
       "      <td>...</td>\n",
       "    </tr>\n",
       "    <tr>\n",
       "      <th>567</th>\n",
       "      <td>True</td>\n",
       "      <td>False</td>\n",
       "    </tr>\n",
       "    <tr>\n",
       "      <th>560</th>\n",
       "      <td>True</td>\n",
       "      <td>False</td>\n",
       "    </tr>\n",
       "    <tr>\n",
       "      <th>945</th>\n",
       "      <td>True</td>\n",
       "      <td>False</td>\n",
       "    </tr>\n",
       "    <tr>\n",
       "      <th>522</th>\n",
       "      <td>True</td>\n",
       "      <td>False</td>\n",
       "    </tr>\n",
       "    <tr>\n",
       "      <th>651</th>\n",
       "      <td>True</td>\n",
       "      <td>False</td>\n",
       "    </tr>\n",
       "  </tbody>\n",
       "</table>\n",
       "<p>294 rows × 2 columns</p>\n",
       "</div>"
      ],
      "text/plain": [
       "      Attrition_No  Attrition_Yes\n",
       "1041          True          False\n",
       "184           True          False\n",
       "1222         False           True\n",
       "67            True          False\n",
       "220           True          False\n",
       "...            ...            ...\n",
       "567           True          False\n",
       "560           True          False\n",
       "945           True          False\n",
       "522           True          False\n",
       "651           True          False\n",
       "\n",
       "[294 rows x 2 columns]"
      ]
     },
     "metadata": {},
     "output_type": "display_data"
    },
    {
     "data": {
      "text/plain": [
       "Attrition_No  Attrition_Yes\n",
       "True          False            978\n",
       "False         True             198\n",
       "Name: count, dtype: int64"
      ]
     },
     "execution_count": 51,
     "metadata": {},
     "output_type": "execute_result"
    }
   ],
   "source": [
    "# Create a OneHotEncoder for the Attrition column\n",
    "\n",
    "\n",
    "# Fit the encoder to the training data\n",
    "\n",
    "\n",
    "# Create two new variables by applying the encoder\n",
    "# to the training and testing data\n",
    "\n",
    "y_train_attr_encode=pd.get_dummies(y_train,columns=[\"Attrition\"],drop_first=False).drop(columns=[\"Department\"]) \n",
    "\n",
    "y_test_attr_encode=pd.get_dummies(y_test,columns=[\"Attrition\"],drop_first=False).drop(columns=[\"Department\"])\n",
    "\n",
    "\n",
    "\n",
    "display(y_train_attr_encode)\n",
    "display(y_test_attr_encode)\n",
    "y_train_attr_encode.value_counts()"
   ]
  },
  {
   "cell_type": "markdown",
   "metadata": {
    "id": "ykNmu_WWGc3T"
   },
   "source": [
    "## Part 2: Create, Compile, and Train the Model"
   ]
  },
  {
   "cell_type": "code",
   "execution_count": 52,
   "metadata": {
    "executionInfo": {
     "elapsed": 309,
     "status": "ok",
     "timestamp": 1730699227563,
     "user": {
      "displayName": "Alexander Booth",
      "userId": "02269714993535573104"
     },
     "user_tz": 360
    },
    "id": "WUptZqmSGc3T"
   },
   "outputs": [
    {
     "name": "stdout",
     "output_type": "stream",
     "text": [
      "(1176, 41)\n"
     ]
    }
   ],
   "source": [
    "# Find the number of columns in the X training data.\n",
    "print(X_train_encoded.shape)\n",
    "\n",
    "# Create the input layer\n",
    "input_layer=layers.Input(shape=(41,), name=\"input_layer\")\n",
    "\n",
    "# Create at least two shared layers\n",
    "shared_layer1=layers.Dense(128, activation=\"relu\", name=\"shared_layer1\")(input_layer)\n",
    "shared_layer2=layers.Dense(64, activation=\"relu\", name=\"shared_layer2\")(shared_layer1)"
   ]
  },
  {
   "cell_type": "code",
   "execution_count": 53,
   "metadata": {
    "executionInfo": {
     "elapsed": 118,
     "status": "ok",
     "timestamp": 1730699227678,
     "user": {
      "displayName": "Alexander Booth",
      "userId": "02269714993535573104"
     },
     "user_tz": 360
    },
    "id": "JukjTm2yTEqd"
   },
   "outputs": [],
   "source": [
    "# Create a branch for Department\n",
    "# with a hidden layer and an output layer\n",
    "\n",
    "# Create the hidden layer\n",
    "dept_dense=layers.Dense(32, activation=\"relu\", name=\"dept_dense\")(shared_layer2)\n",
    "\n",
    "# Create the output layer\n",
    "dept_output=layers.Dense(len(y_train_dept_encode.columns),activation=\"softmax\",name=\"dept_output\")(dept_dense)"
   ]
  },
  {
   "cell_type": "code",
   "execution_count": 54,
   "metadata": {
    "executionInfo": {
     "elapsed": 9,
     "status": "ok",
     "timestamp": 1730699227679,
     "user": {
      "displayName": "Alexander Booth",
      "userId": "02269714993535573104"
     },
     "user_tz": 360
    },
    "id": "9OqhUiOJUBkR"
   },
   "outputs": [],
   "source": [
    "# Create a branch for Attrition\n",
    "# with a hidden layer and an output layer\n",
    "\n",
    "# Create the hidden layer\n",
    "attr_dense=layers.Dense(32, activation=\"relu\", name=\"attr_dense\")(shared_layer2)\n",
    "\n",
    "# Create the output layer\n",
    "attr_output=layers.Dense(len(y_train_attr_encode.columns),activation=\"softmax\",name=\"attr_output\")(attr_dense)"
   ]
  },
  {
   "cell_type": "code",
   "execution_count": 55,
   "metadata": {
    "colab": {
     "base_uri": "https://localhost:8080/",
     "height": 361
    },
    "executionInfo": {
     "elapsed": 108,
     "status": "ok",
     "timestamp": 1730699227780,
     "user": {
      "displayName": "Alexander Booth",
      "userId": "02269714993535573104"
     },
     "user_tz": 360
    },
    "id": "twmuejdxGc3T",
    "outputId": "dd9ce242-6a66-4709-ba13-4b13551c22e0"
   },
   "outputs": [
    {
     "data": {
      "text/html": [
       "<pre style=\"white-space:pre;overflow-x:auto;line-height:normal;font-family:Menlo,'DejaVu Sans Mono',consolas,'Courier New',monospace\"><span style=\"font-weight: bold\">Model: \"functional_3\"</span>\n",
       "</pre>\n"
      ],
      "text/plain": [
       "\u001b[1mModel: \"functional_3\"\u001b[0m\n"
      ]
     },
     "metadata": {},
     "output_type": "display_data"
    },
    {
     "data": {
      "text/html": [
       "<pre style=\"white-space:pre;overflow-x:auto;line-height:normal;font-family:Menlo,'DejaVu Sans Mono',consolas,'Courier New',monospace\">┏━━━━━━━━━━━━━━━━━━━━━┳━━━━━━━━━━━━━━━━━━━┳━━━━━━━━━━━━┳━━━━━━━━━━━━━━━━━━━┓\n",
       "┃<span style=\"font-weight: bold\"> Layer (type)        </span>┃<span style=\"font-weight: bold\"> Output Shape      </span>┃<span style=\"font-weight: bold\">    Param # </span>┃<span style=\"font-weight: bold\"> Connected to      </span>┃\n",
       "┡━━━━━━━━━━━━━━━━━━━━━╇━━━━━━━━━━━━━━━━━━━╇━━━━━━━━━━━━╇━━━━━━━━━━━━━━━━━━━┩\n",
       "│ input_layer         │ (<span style=\"color: #00d7ff; text-decoration-color: #00d7ff\">None</span>, <span style=\"color: #00af00; text-decoration-color: #00af00\">41</span>)        │          <span style=\"color: #00af00; text-decoration-color: #00af00\">0</span> │ -                 │\n",
       "│ (<span style=\"color: #0087ff; text-decoration-color: #0087ff\">InputLayer</span>)        │                   │            │                   │\n",
       "├─────────────────────┼───────────────────┼────────────┼───────────────────┤\n",
       "│ shared_layer1       │ (<span style=\"color: #00d7ff; text-decoration-color: #00d7ff\">None</span>, <span style=\"color: #00af00; text-decoration-color: #00af00\">128</span>)       │      <span style=\"color: #00af00; text-decoration-color: #00af00\">5,376</span> │ input_layer[<span style=\"color: #00af00; text-decoration-color: #00af00\">0</span>][<span style=\"color: #00af00; text-decoration-color: #00af00\">0</span>] │\n",
       "│ (<span style=\"color: #0087ff; text-decoration-color: #0087ff\">Dense</span>)             │                   │            │                   │\n",
       "├─────────────────────┼───────────────────┼────────────┼───────────────────┤\n",
       "│ shared_layer2       │ (<span style=\"color: #00d7ff; text-decoration-color: #00d7ff\">None</span>, <span style=\"color: #00af00; text-decoration-color: #00af00\">64</span>)        │      <span style=\"color: #00af00; text-decoration-color: #00af00\">8,256</span> │ shared_layer1[<span style=\"color: #00af00; text-decoration-color: #00af00\">0</span>]… │\n",
       "│ (<span style=\"color: #0087ff; text-decoration-color: #0087ff\">Dense</span>)             │                   │            │                   │\n",
       "├─────────────────────┼───────────────────┼────────────┼───────────────────┤\n",
       "│ attr_dense (<span style=\"color: #0087ff; text-decoration-color: #0087ff\">Dense</span>)  │ (<span style=\"color: #00d7ff; text-decoration-color: #00d7ff\">None</span>, <span style=\"color: #00af00; text-decoration-color: #00af00\">32</span>)        │      <span style=\"color: #00af00; text-decoration-color: #00af00\">2,080</span> │ shared_layer2[<span style=\"color: #00af00; text-decoration-color: #00af00\">0</span>]… │\n",
       "├─────────────────────┼───────────────────┼────────────┼───────────────────┤\n",
       "│ dept_dense (<span style=\"color: #0087ff; text-decoration-color: #0087ff\">Dense</span>)  │ (<span style=\"color: #00d7ff; text-decoration-color: #00d7ff\">None</span>, <span style=\"color: #00af00; text-decoration-color: #00af00\">32</span>)        │      <span style=\"color: #00af00; text-decoration-color: #00af00\">2,080</span> │ shared_layer2[<span style=\"color: #00af00; text-decoration-color: #00af00\">0</span>]… │\n",
       "├─────────────────────┼───────────────────┼────────────┼───────────────────┤\n",
       "│ attr_output (<span style=\"color: #0087ff; text-decoration-color: #0087ff\">Dense</span>) │ (<span style=\"color: #00d7ff; text-decoration-color: #00d7ff\">None</span>, <span style=\"color: #00af00; text-decoration-color: #00af00\">2</span>)         │         <span style=\"color: #00af00; text-decoration-color: #00af00\">66</span> │ attr_dense[<span style=\"color: #00af00; text-decoration-color: #00af00\">0</span>][<span style=\"color: #00af00; text-decoration-color: #00af00\">0</span>]  │\n",
       "├─────────────────────┼───────────────────┼────────────┼───────────────────┤\n",
       "│ dept_output (<span style=\"color: #0087ff; text-decoration-color: #0087ff\">Dense</span>) │ (<span style=\"color: #00d7ff; text-decoration-color: #00d7ff\">None</span>, <span style=\"color: #00af00; text-decoration-color: #00af00\">3</span>)         │         <span style=\"color: #00af00; text-decoration-color: #00af00\">99</span> │ dept_dense[<span style=\"color: #00af00; text-decoration-color: #00af00\">0</span>][<span style=\"color: #00af00; text-decoration-color: #00af00\">0</span>]  │\n",
       "└─────────────────────┴───────────────────┴────────────┴───────────────────┘\n",
       "</pre>\n"
      ],
      "text/plain": [
       "┏━━━━━━━━━━━━━━━━━━━━━┳━━━━━━━━━━━━━━━━━━━┳━━━━━━━━━━━━┳━━━━━━━━━━━━━━━━━━━┓\n",
       "┃\u001b[1m \u001b[0m\u001b[1mLayer (type)       \u001b[0m\u001b[1m \u001b[0m┃\u001b[1m \u001b[0m\u001b[1mOutput Shape     \u001b[0m\u001b[1m \u001b[0m┃\u001b[1m \u001b[0m\u001b[1m   Param #\u001b[0m\u001b[1m \u001b[0m┃\u001b[1m \u001b[0m\u001b[1mConnected to     \u001b[0m\u001b[1m \u001b[0m┃\n",
       "┡━━━━━━━━━━━━━━━━━━━━━╇━━━━━━━━━━━━━━━━━━━╇━━━━━━━━━━━━╇━━━━━━━━━━━━━━━━━━━┩\n",
       "│ input_layer         │ (\u001b[38;5;45mNone\u001b[0m, \u001b[38;5;34m41\u001b[0m)        │          \u001b[38;5;34m0\u001b[0m │ -                 │\n",
       "│ (\u001b[38;5;33mInputLayer\u001b[0m)        │                   │            │                   │\n",
       "├─────────────────────┼───────────────────┼────────────┼───────────────────┤\n",
       "│ shared_layer1       │ (\u001b[38;5;45mNone\u001b[0m, \u001b[38;5;34m128\u001b[0m)       │      \u001b[38;5;34m5,376\u001b[0m │ input_layer[\u001b[38;5;34m0\u001b[0m][\u001b[38;5;34m0\u001b[0m] │\n",
       "│ (\u001b[38;5;33mDense\u001b[0m)             │                   │            │                   │\n",
       "├─────────────────────┼───────────────────┼────────────┼───────────────────┤\n",
       "│ shared_layer2       │ (\u001b[38;5;45mNone\u001b[0m, \u001b[38;5;34m64\u001b[0m)        │      \u001b[38;5;34m8,256\u001b[0m │ shared_layer1[\u001b[38;5;34m0\u001b[0m]… │\n",
       "│ (\u001b[38;5;33mDense\u001b[0m)             │                   │            │                   │\n",
       "├─────────────────────┼───────────────────┼────────────┼───────────────────┤\n",
       "│ attr_dense (\u001b[38;5;33mDense\u001b[0m)  │ (\u001b[38;5;45mNone\u001b[0m, \u001b[38;5;34m32\u001b[0m)        │      \u001b[38;5;34m2,080\u001b[0m │ shared_layer2[\u001b[38;5;34m0\u001b[0m]… │\n",
       "├─────────────────────┼───────────────────┼────────────┼───────────────────┤\n",
       "│ dept_dense (\u001b[38;5;33mDense\u001b[0m)  │ (\u001b[38;5;45mNone\u001b[0m, \u001b[38;5;34m32\u001b[0m)        │      \u001b[38;5;34m2,080\u001b[0m │ shared_layer2[\u001b[38;5;34m0\u001b[0m]… │\n",
       "├─────────────────────┼───────────────────┼────────────┼───────────────────┤\n",
       "│ attr_output (\u001b[38;5;33mDense\u001b[0m) │ (\u001b[38;5;45mNone\u001b[0m, \u001b[38;5;34m2\u001b[0m)         │         \u001b[38;5;34m66\u001b[0m │ attr_dense[\u001b[38;5;34m0\u001b[0m][\u001b[38;5;34m0\u001b[0m]  │\n",
       "├─────────────────────┼───────────────────┼────────────┼───────────────────┤\n",
       "│ dept_output (\u001b[38;5;33mDense\u001b[0m) │ (\u001b[38;5;45mNone\u001b[0m, \u001b[38;5;34m3\u001b[0m)         │         \u001b[38;5;34m99\u001b[0m │ dept_dense[\u001b[38;5;34m0\u001b[0m][\u001b[38;5;34m0\u001b[0m]  │\n",
       "└─────────────────────┴───────────────────┴────────────┴───────────────────┘\n"
      ]
     },
     "metadata": {},
     "output_type": "display_data"
    },
    {
     "data": {
      "text/html": [
       "<pre style=\"white-space:pre;overflow-x:auto;line-height:normal;font-family:Menlo,'DejaVu Sans Mono',consolas,'Courier New',monospace\"><span style=\"font-weight: bold\"> Total params: </span><span style=\"color: #00af00; text-decoration-color: #00af00\">17,957</span> (70.14 KB)\n",
       "</pre>\n"
      ],
      "text/plain": [
       "\u001b[1m Total params: \u001b[0m\u001b[38;5;34m17,957\u001b[0m (70.14 KB)\n"
      ]
     },
     "metadata": {},
     "output_type": "display_data"
    },
    {
     "data": {
      "text/html": [
       "<pre style=\"white-space:pre;overflow-x:auto;line-height:normal;font-family:Menlo,'DejaVu Sans Mono',consolas,'Courier New',monospace\"><span style=\"font-weight: bold\"> Trainable params: </span><span style=\"color: #00af00; text-decoration-color: #00af00\">17,957</span> (70.14 KB)\n",
       "</pre>\n"
      ],
      "text/plain": [
       "\u001b[1m Trainable params: \u001b[0m\u001b[38;5;34m17,957\u001b[0m (70.14 KB)\n"
      ]
     },
     "metadata": {},
     "output_type": "display_data"
    },
    {
     "data": {
      "text/html": [
       "<pre style=\"white-space:pre;overflow-x:auto;line-height:normal;font-family:Menlo,'DejaVu Sans Mono',consolas,'Courier New',monospace\"><span style=\"font-weight: bold\"> Non-trainable params: </span><span style=\"color: #00af00; text-decoration-color: #00af00\">0</span> (0.00 B)\n",
       "</pre>\n"
      ],
      "text/plain": [
       "\u001b[1m Non-trainable params: \u001b[0m\u001b[38;5;34m0\u001b[0m (0.00 B)\n"
      ]
     },
     "metadata": {},
     "output_type": "display_data"
    }
   ],
   "source": [
    "# Create the model\n",
    "model = Model(inputs=input_layer, outputs={\n",
    "    \"dept_output\": dept_output,\n",
    "    \"attr_output\": attr_output\n",
    "})\n",
    "\n",
    "# Compile the model\n",
    "model.compile(\n",
    "    optimizer=\"adam\",\n",
    "    loss={\n",
    "        \"dept_output\": \"categorical_crossentropy\",\n",
    "        \"attr_output\": \"binary_crossentropy\"  \n",
    "    },\n",
    "    metrics={\n",
    "        \"dept_output\": \"accuracy\",\n",
    "        \"attr_output\": \"accuracy\"\n",
    "    }\n",
    ")\n",
    "\n",
    "# Summarize the model\n",
    "model.summary()"
   ]
  },
  {
   "cell_type": "code",
   "execution_count": null,
   "metadata": {
    "colab": {
     "base_uri": "https://localhost:8080/"
    },
    "executionInfo": {
     "elapsed": 31740,
     "status": "ok",
     "timestamp": 1730699259517,
     "user": {
      "displayName": "Alexander Booth",
      "userId": "02269714993535573104"
     },
     "user_tz": 360
    },
    "id": "c8oGy0dpGc3U",
    "outputId": "f48a5292-426f-4715-ea6e-381a8e9d5542"
   },
   "outputs": [
    {
     "name": "stdout",
     "output_type": "stream",
     "text": [
      "Epoch 1/50\n",
      "\u001b[1m37/37\u001b[0m \u001b[32m━━━━━━━━━━━━━━━━━━━━\u001b[0m\u001b[37m\u001b[0m \u001b[1m1s\u001b[0m 7ms/step - attr_output_accuracy: 0.7063 - attr_output_loss: 0.5959 - dept_output_accuracy: 0.5888 - dept_output_loss: 0.8787 - loss: 1.4746 - val_attr_output_accuracy: 0.8673 - val_attr_output_loss: 0.3668 - val_dept_output_accuracy: 0.6905 - val_dept_output_loss: 0.6785 - val_loss: 1.0769\n",
      "Epoch 2/50\n",
      "\u001b[1m37/37\u001b[0m \u001b[32m━━━━━━━━━━━━━━━━━━━━\u001b[0m\u001b[37m\u001b[0m \u001b[1m0s\u001b[0m 3ms/step - attr_output_accuracy: 0.8292 - attr_output_loss: 0.4310 - dept_output_accuracy: 0.7130 - dept_output_loss: 0.6412 - loss: 1.0723 - val_attr_output_accuracy: 0.8673 - val_attr_output_loss: 0.3398 - val_dept_output_accuracy: 0.8844 - val_dept_output_loss: 0.4521 - val_loss: 0.8255\n",
      "Epoch 3/50\n",
      "\u001b[1m37/37\u001b[0m \u001b[32m━━━━━━━━━━━━━━━━━━━━\u001b[0m\u001b[37m\u001b[0m \u001b[1m0s\u001b[0m 3ms/step - attr_output_accuracy: 0.8324 - attr_output_loss: 0.3881 - dept_output_accuracy: 0.9061 - dept_output_loss: 0.3704 - loss: 0.7585 - val_attr_output_accuracy: 0.8741 - val_attr_output_loss: 0.3160 - val_dept_output_accuracy: 0.9422 - val_dept_output_loss: 0.1842 - val_loss: 0.5297\n",
      "Epoch 4/50\n",
      "\u001b[1m37/37\u001b[0m \u001b[32m━━━━━━━━━━━━━━━━━━━━\u001b[0m\u001b[37m\u001b[0m \u001b[1m0s\u001b[0m 3ms/step - attr_output_accuracy: 0.8574 - attr_output_loss: 0.3376 - dept_output_accuracy: 0.9426 - dept_output_loss: 0.1609 - loss: 0.4986 - val_attr_output_accuracy: 0.8776 - val_attr_output_loss: 0.3252 - val_dept_output_accuracy: 0.9456 - val_dept_output_loss: 0.1185 - val_loss: 0.4685\n",
      "Epoch 5/50\n",
      "\u001b[1m37/37\u001b[0m \u001b[32m━━━━━━━━━━━━━━━━━━━━\u001b[0m\u001b[37m\u001b[0m \u001b[1m0s\u001b[0m 3ms/step - attr_output_accuracy: 0.8755 - attr_output_loss: 0.3218 - dept_output_accuracy: 0.9829 - dept_output_loss: 0.0616 - loss: 0.3834 - val_attr_output_accuracy: 0.9014 - val_attr_output_loss: 0.3007 - val_dept_output_accuracy: 0.9728 - val_dept_output_loss: 0.0863 - val_loss: 0.4150\n",
      "Epoch 6/50\n",
      "\u001b[1m37/37\u001b[0m \u001b[32m━━━━━━━━━━━━━━━━━━━━\u001b[0m\u001b[37m\u001b[0m \u001b[1m0s\u001b[0m 3ms/step - attr_output_accuracy: 0.8995 - attr_output_loss: 0.2716 - dept_output_accuracy: 0.9965 - dept_output_loss: 0.0388 - loss: 0.3103 - val_attr_output_accuracy: 0.8639 - val_attr_output_loss: 0.3358 - val_dept_output_accuracy: 0.9592 - val_dept_output_loss: 0.1057 - val_loss: 0.4687\n",
      "Epoch 7/50\n",
      "\u001b[1m37/37\u001b[0m \u001b[32m━━━━━━━━━━━━━━━━━━━━\u001b[0m\u001b[37m\u001b[0m \u001b[1m0s\u001b[0m 3ms/step - attr_output_accuracy: 0.9045 - attr_output_loss: 0.2598 - dept_output_accuracy: 0.9932 - dept_output_loss: 0.0355 - loss: 0.2954 - val_attr_output_accuracy: 0.8810 - val_attr_output_loss: 0.3147 - val_dept_output_accuracy: 0.9660 - val_dept_output_loss: 0.0777 - val_loss: 0.4204\n",
      "Epoch 8/50\n",
      "\u001b[1m37/37\u001b[0m \u001b[32m━━━━━━━━━━━━━━━━━━━━\u001b[0m\u001b[37m\u001b[0m \u001b[1m0s\u001b[0m 3ms/step - attr_output_accuracy: 0.9073 - attr_output_loss: 0.2443 - dept_output_accuracy: 0.9946 - dept_output_loss: 0.0190 - loss: 0.2633 - val_attr_output_accuracy: 0.8673 - val_attr_output_loss: 0.3156 - val_dept_output_accuracy: 0.9660 - val_dept_output_loss: 0.0738 - val_loss: 0.4187\n",
      "Epoch 9/50\n",
      "\u001b[1m37/37\u001b[0m \u001b[32m━━━━━━━━━━━━━━━━━━━━\u001b[0m\u001b[37m\u001b[0m \u001b[1m0s\u001b[0m 3ms/step - attr_output_accuracy: 0.9196 - attr_output_loss: 0.2336 - dept_output_accuracy: 0.9998 - dept_output_loss: 0.0128 - loss: 0.2464 - val_attr_output_accuracy: 0.8639 - val_attr_output_loss: 0.3292 - val_dept_output_accuracy: 0.9660 - val_dept_output_loss: 0.0777 - val_loss: 0.4377\n",
      "Epoch 10/50\n",
      "\u001b[1m37/37\u001b[0m \u001b[32m━━━━━━━━━━━━━━━━━━━━\u001b[0m\u001b[37m\u001b[0m \u001b[1m0s\u001b[0m 3ms/step - attr_output_accuracy: 0.9167 - attr_output_loss: 0.2244 - dept_output_accuracy: 1.0000 - dept_output_loss: 0.0098 - loss: 0.2343 - val_attr_output_accuracy: 0.8776 - val_attr_output_loss: 0.3195 - val_dept_output_accuracy: 0.9694 - val_dept_output_loss: 0.0732 - val_loss: 0.4239\n"
     ]
    },
    {
     "data": {
      "text/plain": [
       "<keras.src.callbacks.history.History at 0x22b3ebc3ef0>"
      ]
     },
     "execution_count": 56,
     "metadata": {},
     "output_type": "execute_result"
    }
   ],
   "source": [
    "# Train the model\n",
    "from keras.callbacks import EarlyStopping\n",
    "early_stop = EarlyStopping(monitor=\"val_loss\", patience=5, \n",
    "restore_best_weights=True)\n",
    "\n",
    "model.fit(\n",
    "    X_train_encoded,\n",
    "    {\"dept_output\": y_train_dept_encode,\n",
    "     \"attr_output\" : y_train_attr_encode},\n",
    "     epochs=50,\n",
    "     batch_size=32,\n",
    "     validation_data=(X_test_encoded, {\n",
    "         \"dept_output\" : y_test_dept_encode,\n",
    "         \"attr_output\" : y_test_attr_encode}),\n",
    "     callbacks=[early_stop]                    \n",
    "        \n",
    "     )"
   ]
  },
  {
   "cell_type": "code",
   "execution_count": null,
   "metadata": {
    "colab": {
     "base_uri": "https://localhost:8080/"
    },
    "executionInfo": {
     "elapsed": 379,
     "status": "ok",
     "timestamp": 1730699259894,
     "user": {
      "displayName": "Alexander Booth",
      "userId": "02269714993535573104"
     },
     "user_tz": 360
    },
    "id": "VsMoaQlgGc3U",
    "outputId": "636c85ba-ee63-4087-b7d1-00b408f1055a"
   },
   "outputs": [
    {
     "name": "stdout",
     "output_type": "stream",
     "text": [
      "\u001b[1m10/10\u001b[0m \u001b[32m━━━━━━━━━━━━━━━━━━━━\u001b[0m\u001b[37m\u001b[0m \u001b[1m0s\u001b[0m 3ms/step - attr_output_accuracy: 0.8863 - attr_output_loss: 0.3319 - dept_output_accuracy: 0.9684 - dept_output_loss: 0.0878 - loss: 0.4247 \n",
      "['loss', 'compile_metrics', 'dept_output_loss', 'attr_output_loss']\n",
      "[0.4149811565876007, 0.0863058865070343, 0.3007259964942932, 0.9013605713844299, 0.9727891087532043]\n"
     ]
    }
   ],
   "source": [
    "# Evaluate the model with the testing data\n",
    "results=model.evaluate(X_test_encoded, {\"dept_output\" : y_test_dept_encode,\n",
    "         \"attr_output\" : y_test_attr_encode})\n",
    "\n",
    "print(model.metrics_names)\n",
    "print(results)\n"
   ]
  },
  {
   "cell_type": "code",
   "execution_count": 58,
   "metadata": {
    "colab": {
     "base_uri": "https://localhost:8080/"
    },
    "executionInfo": {
     "elapsed": 113,
     "status": "ok",
     "timestamp": 1730699260004,
     "user": {
      "displayName": "Alexander Booth",
      "userId": "02269714993535573104"
     },
     "user_tz": 360
    },
    "id": "ZlCtlHi0Vt54",
    "outputId": "3a32435c-11cf-48da-81b5-1431d6c00da2"
   },
   "outputs": [
    {
     "name": "stdout",
     "output_type": "stream",
     "text": [
      "Attrition Accuracy: 0.901\n",
      "Department Accuracy: 0.973\n"
     ]
    }
   ],
   "source": [
    "# Print the accuracy for both department and attrition\n",
    "print(f\"Attrition Accuracy: {results[3]:.3f}\") \n",
    "print(f\"Department Accuracy: {results[4]:.3f}\") "
   ]
  },
  {
   "cell_type": "code",
   "execution_count": 70,
   "metadata": {},
   "outputs": [
    {
     "name": "stdout",
     "output_type": "stream",
     "text": [
      "\u001b[1m10/10\u001b[0m \u001b[32m━━━━━━━━━━━━━━━━━━━━\u001b[0m\u001b[37m\u001b[0m \u001b[1m0s\u001b[0m 3ms/step \n",
      "Confusion Matrix for Attrition:\n",
      "[[253   2]\n",
      " [ 27  12]]\n"
     ]
    }
   ],
   "source": [
    "#confusion matrix for attr\n",
    "\n",
    "#predictions\n",
    "predictions_attr=model.predict(X_test_encoded)[\"attr_output\"]\n",
    "\n",
    "prediction_attr_classes=(predictions_attr >0.5).astype(int)\n",
    "#need prediction_attr_classes as 1D array\n",
    "prediction_attr_classes = np.argmax(predictions_attr, axis=1)\n",
    "\n",
    "#need a binary array for y_test_attr_encode instead if the 2 columns onehotencoder values\n",
    "y_test_attr_classes = np.argmax(y_test_attr_encode, axis=1)\n",
    "\n",
    "from sklearn.metrics import confusion_matrix\n",
    "cm_attr=confusion_matrix(y_test_attr_classes,prediction_attr_classes)\n",
    "\n",
    "print(\"Confusion Matrix for Attrition:\")\n",
    "print(cm_attr)"
   ]
  },
  {
   "cell_type": "code",
   "execution_count": 72,
   "metadata": {},
   "outputs": [
    {
     "name": "stdout",
     "output_type": "stream",
     "text": [
      "Classification Report for Attrition Output:\n",
      "              precision    recall  f1-score   support\n",
      "\n",
      "           0       0.90      0.99      0.95       255\n",
      "           1       0.86      0.31      0.45        39\n",
      "\n",
      "    accuracy                           0.90       294\n",
      "   macro avg       0.88      0.65      0.70       294\n",
      "weighted avg       0.90      0.90      0.88       294\n",
      "\n"
     ]
    }
   ],
   "source": [
    "#classification report\n",
    "from sklearn.metrics import classification_report\n",
    "\n",
    "# Generate classification report for the attrition output\n",
    "report_attr = classification_report(y_test_attr_classes, prediction_attr_classes)\n",
    "\n",
    "print(\"Classification Report for Attrition Output:\")\n",
    "print(report_attr)"
   ]
  },
  {
   "cell_type": "markdown",
   "metadata": {
    "id": "eGSyfsZfWOQM"
   },
   "source": [
    "# Summary\n",
    "\n",
    "In the provided space below, briefly answer the following questions.\n",
    "\n",
    "1. Is accuracy the best metric to use on this data? Why or why not?\n",
    "\n",
    "2. What activation functions did you choose for your output layers, and why?\n",
    "\n",
    "3. Can you name a few ways that this model might be improved?"
   ]
  },
  {
   "cell_type": "markdown",
   "metadata": {
    "id": "pi9SLpFnWvbF"
   },
   "source": [
    "YOUR ANSWERS HERE\n",
    "\n",
    "1. Accuracy is not always the best metric to access performance on imbalanced datasets (which I have).  Looking at precision, recall, F1-score and AUC-ROC may be better indicators of the model performance.  In this case there are 27 cases where the employee left and the model said they stayed...so there is still an issue.  Perhaps actions in #3 would help.\n",
    "2. For the two shared layers and 2 hidden layers. I used relu.  Relu is simple, helps with vanishing gradient issues, and is computationally efficient.  Attrition is binary classification but department is not so I would not use sigmoid. Tanh works best with outputs between -1 and 1.  By using standardscaler, I scaled to +/- 1 standard deviation and the values do not fall in this range on all features.  For the output layers I used softmax since this is a mutli-class classification problem.\n",
    "3. The department part of the model looks to be good with accuracy of 97% and loss of 0.1.  The attrition part, however needs some more work with an accuracy of 0.9 and a loss of 0.3.  This may be due to the imbalance in the data.  There are 978 cases where the employee stayed but only 198 that left.  This may be biassing the model toward employees staying.  To correct this, you can add class weights into the model.fit statement.  A higher weight on attrition_yes would penalize the loss more for a misclassification.  Another approach may be to use SMOTE to increase the attrition_yes class sample or randomly remove data from the the attrition_no class.  Getting more attrition_yes data would also help.  I wanted to do some feature removal but the tools I thought I could use were not not working.  One way to make a better model would be to preform a feature importance study and remove redundant or inconsequential features.  As an alternative you can use industry knowledge and pick the top ten influential features.  There is always hyperparameter tuning of learning rates, optimizer parameters, and the number of neurons in the layers that may help get a few more percent points in accuracy."
   ]
  },
  {
   "cell_type": "code",
   "execution_count": null,
   "metadata": {
    "executionInfo": {
     "elapsed": 3,
     "status": "ok",
     "timestamp": 1730699260004,
     "user": {
      "displayName": "Alexander Booth",
      "userId": "02269714993535573104"
     },
     "user_tz": 360
    },
    "id": "ZuQWjGgGXZ3C"
   },
   "outputs": [],
   "source": []
  },
  {
   "cell_type": "markdown",
   "metadata": {},
   "source": [
    "## Feature Reduction"
   ]
  },
  {
   "cell_type": "code",
   "execution_count": null,
   "metadata": {},
   "outputs": [],
   "source": [
    "import shap\n",
    "\n",
    "background_data = X_train_encoded[:100]\n",
    "\n",
    "def model_predict(input_data):\n",
    "    # Get model predictions for department output (or attrition, depending on what you want)\n",
    "    return model(input_data)[\"dept_output\"].numpy()\n",
    "\n",
    "explainer = shap.KernelExplainer(model_predict, background_data)\n",
    "\n",
    "shap_values = explainer.shap_values(X_test_encoded[:1])\n",
    "\n",
    "# Visualize the SHAP values for a single instance\n",
    "shap.initjs()\n",
    "shap_values_dept = shap_values[0, :, 0]\n",
    "shap_values_attr = shap_values[0, :, 1]  \n",
    "shap.force_plot(explainer.expected_value[0], shap_values_dept, X_test_encoded[:1])\n"
   ]
  },
  {
   "cell_type": "code",
   "execution_count": null,
   "metadata": {},
   "outputs": [],
   "source": [
    "X_train_encoded.corr()"
   ]
  },
  {
   "cell_type": "code",
   "execution_count": null,
   "metadata": {},
   "outputs": [],
   "source": [
    "from sklearn.inspection import permutation_importance\n",
    "import numpy as np\n",
    "\n",
    "# Define a custom scoring function\n",
    "def model_score(X, y, sample_weight=None):\n",
    "    # Get the prediction using model.predict() (not directly using model object)\n",
    "    y_pred = model.predict(X)\n",
    "    accuracy = np.mean(np.argmax(y_pred[\"dept_output\"], axis=-1) == np.argmax(y, axis=-1))\n",
    "    return accuracy\n",
    "\n",
    "# Assuming model is trained, X_test_encoded and y_test_dept_encode are available\n",
    "result = permutation_importance(\n",
    "    model, X_test_encoded, y_test_dept_encode, n_repeats=10, random_state=42, scoring=model_score\n",
    ")\n",
    "\n",
    "# Get feature importance scores\n",
    "importance = result.importances_mean\n",
    "\n",
    "# Print the importance scores\n",
    "for i, feature in enumerate(X_train_encoded.columns):\n",
    "    print(f\"{feature}: {importance[i]}\")\n"
   ]
  }
 ],
 "metadata": {
  "colab": {
   "provenance": []
  },
  "kernelspec": {
   "display_name": "base",
   "language": "python",
   "name": "python3"
  },
  "language_info": {
   "codemirror_mode": {
    "name": "ipython",
    "version": 3
   },
   "file_extension": ".py",
   "mimetype": "text/x-python",
   "name": "python",
   "nbconvert_exporter": "python",
   "pygments_lexer": "ipython3",
   "version": "3.12.7"
  }
 },
 "nbformat": 4,
 "nbformat_minor": 0
}
